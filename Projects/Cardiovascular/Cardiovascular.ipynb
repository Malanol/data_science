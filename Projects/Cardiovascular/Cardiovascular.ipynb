{
 "cells": [
  {
   "cell_type": "markdown",
   "id": "9e46a61f",
   "metadata": {},
   "source": [
    "# Анализ датасета с болезнями сердечно-сосудистой системы.\n",
    "<hr>\n",
    "\n",
    "<p style=\"margin-left: 4px; font-family: Arial;\">Содержит данные о разных пациентах и наличии у них сердечно-сосудистых заболеваний.\n",
    "</p>\n",
    "<br>\n",
    "\n",
    "<h3 style=\"font-family: Arial;\">Этапы анализа:</h3>\n",
    "\n",
    "<p style=\"margin-left: 4px; font-family: Arial;\">1. Формулировка проблем и определение целей\n",
    "    <br>\n",
    "2. Обработка данных\n",
    "    <br>\n",
    "3. Исследование данных \n",
    "    <br>\n",
    "4. Построение моделей\n",
    "    <br>\n",
    "5. Выводы</p>\n",
    "\n",
    "<br>\n",
    "<h3 style=\"font-family: Arial;\">Формулировка проблемы и определение целей</h3>\n",
    "<hr>\n",
    "\n",
    "<p style=\"margin-left: 4px; font-family: Arial;\">Итак, наш датасет содержит данные о пациентах и наличии у них сердечно-сосудистых заболеваний. Большая часть из них - люди в возрасте от 50 до 65 лет. Нам необходимо:</p>\n",
    "<ul style=\"font-family: Arial;\">\n",
    "    <li>Понять причины возникновения у людей этих заболеваний</li>\n",
    "    <li>Определить те факторы, которые вероятнее всего приведут к проблемам со здоровьем</li>\n",
    "    <li>Cоздать модель, которая могла бы из данных о пациенте прогнозировать наличие у него заболевания</li>\n",
    "    <li>Создать простую таблицу, по которой люди могли бы узнать быстро о наличии или возникновении в будущем у них сердечно-сосудистых заболеваний.</li>\n",
    "</ul>\n",
    "<br>\n",
    "<h4 style=\"font-family: Arial;\">Из вышеперечисленного мы можем вывести точные цели проекта: </h4>\n",
    "<ol style=\"font-family: Arial;\">\n",
    "    <li>Узнать те факторы, которые сильнее всего влияют на возникновение сердечно-сосудистых заболеваний</li>\n",
    "    <li>Определить правила профилактики сердечно-сосудистых заболеваний</li>\n",
    "    <li>Определить \"среднего\" представителя группы болеющих, и группы здоровых</li>\n",
    "    <li>Создание human-readable таблицу для определения вероятности наличия сердечно-сосудистых заболеваний</li>\n",
    "    <li>Создание модели машинного обучения для предсказания вероятности наличия сердечно-сосудистых заболеваний</li>\n",
    "</ol>\n",
    "<br>\n",
    "<h4 style=\"font-family: Arial;\">Мы также имеем промежуточные цели, которые необходимо выполнить для качественного исследования:</h4>\n",
    "<ul style=\"font-family: Arial;\">\n",
    "    <li>Очистить и обработать данные из датасета</li>\n",
    "    <li>Визуализировать данные</li>\n",
    "    <li>Выбрать необходиммые для обучения данные, подготовить их и обучить на них модель</li>\n",
    "</ul>\n",
    "\n"
   ]
  },
  {
   "cell_type": "markdown",
   "id": "976cc456",
   "metadata": {},
   "source": [
    "# Загружаем датасет"
   ]
  },
  {
   "cell_type": "code",
   "execution_count": 1,
   "id": "1c4bcc77",
   "metadata": {},
   "outputs": [],
   "source": [
    "import numpy as np\n",
    "import pandas as pd \n",
    "\n",
    "import matplotlib.pyplot as plt\n",
    "import seaborn as sns\n",
    "\n",
    "from os.path import isdir, join\n",
    "from urllib.request import urlopen\n",
    "from warnings import filterwarnings"
   ]
  },
  {
   "cell_type": "code",
   "execution_count": 2,
   "id": "3d702166",
   "metadata": {},
   "outputs": [],
   "source": [
    "sns.set()\n",
    "filterwarnings(\"ignore\")\n",
    "\n",
    "%config InlineBackend.figure_format = \"retina\""
   ]
  },
  {
   "cell_type": "code",
   "execution_count": 3,
   "id": "692e7b37",
   "metadata": {},
   "outputs": [],
   "source": [
    "plt.rcParams[\"figure.figsize\"] = (9, 9)"
   ]
  },
  {
   "cell_type": "code",
   "execution_count": 4,
   "id": "3b61cb4c",
   "metadata": {},
   "outputs": [],
   "source": [
    "URL = \"https://raw.githubusercontent.com/Yorko/mlcourse.ai/main/data/mlbootcamp5_train.csv\"\n",
    "DATASET_PATH = \"./Datasets/\""
   ]
  },
  {
   "cell_type": "code",
   "execution_count": 5,
   "id": "a8c9bd4a",
   "metadata": {},
   "outputs": [],
   "source": [
    "df = pd.read_csv(URL, sep=\";\")"
   ]
  },
  {
   "cell_type": "markdown",
   "id": "205d9fce",
   "metadata": {},
   "source": [
    "<h4 style=\"font-family: Arial;\">Выведем на экран первые 5 записей из датасета:</h4>"
   ]
  },
  {
   "cell_type": "code",
   "execution_count": 6,
   "id": "118ac0da",
   "metadata": {},
   "outputs": [
    {
     "data": {
      "text/html": [
       "<div>\n",
       "<style scoped>\n",
       "    .dataframe tbody tr th:only-of-type {\n",
       "        vertical-align: middle;\n",
       "    }\n",
       "\n",
       "    .dataframe tbody tr th {\n",
       "        vertical-align: top;\n",
       "    }\n",
       "\n",
       "    .dataframe thead th {\n",
       "        text-align: right;\n",
       "    }\n",
       "</style>\n",
       "<table border=\"1\" class=\"dataframe\">\n",
       "  <thead>\n",
       "    <tr style=\"text-align: right;\">\n",
       "      <th></th>\n",
       "      <th>id</th>\n",
       "      <th>age</th>\n",
       "      <th>gender</th>\n",
       "      <th>height</th>\n",
       "      <th>weight</th>\n",
       "      <th>ap_hi</th>\n",
       "      <th>ap_lo</th>\n",
       "      <th>cholesterol</th>\n",
       "      <th>gluc</th>\n",
       "      <th>smoke</th>\n",
       "      <th>alco</th>\n",
       "      <th>active</th>\n",
       "      <th>cardio</th>\n",
       "    </tr>\n",
       "  </thead>\n",
       "  <tbody>\n",
       "    <tr>\n",
       "      <th>0</th>\n",
       "      <td>0</td>\n",
       "      <td>18393</td>\n",
       "      <td>2</td>\n",
       "      <td>168</td>\n",
       "      <td>62.0</td>\n",
       "      <td>110</td>\n",
       "      <td>80</td>\n",
       "      <td>1</td>\n",
       "      <td>1</td>\n",
       "      <td>0</td>\n",
       "      <td>0</td>\n",
       "      <td>1</td>\n",
       "      <td>0</td>\n",
       "    </tr>\n",
       "    <tr>\n",
       "      <th>1</th>\n",
       "      <td>1</td>\n",
       "      <td>20228</td>\n",
       "      <td>1</td>\n",
       "      <td>156</td>\n",
       "      <td>85.0</td>\n",
       "      <td>140</td>\n",
       "      <td>90</td>\n",
       "      <td>3</td>\n",
       "      <td>1</td>\n",
       "      <td>0</td>\n",
       "      <td>0</td>\n",
       "      <td>1</td>\n",
       "      <td>1</td>\n",
       "    </tr>\n",
       "    <tr>\n",
       "      <th>2</th>\n",
       "      <td>2</td>\n",
       "      <td>18857</td>\n",
       "      <td>1</td>\n",
       "      <td>165</td>\n",
       "      <td>64.0</td>\n",
       "      <td>130</td>\n",
       "      <td>70</td>\n",
       "      <td>3</td>\n",
       "      <td>1</td>\n",
       "      <td>0</td>\n",
       "      <td>0</td>\n",
       "      <td>0</td>\n",
       "      <td>1</td>\n",
       "    </tr>\n",
       "    <tr>\n",
       "      <th>3</th>\n",
       "      <td>3</td>\n",
       "      <td>17623</td>\n",
       "      <td>2</td>\n",
       "      <td>169</td>\n",
       "      <td>82.0</td>\n",
       "      <td>150</td>\n",
       "      <td>100</td>\n",
       "      <td>1</td>\n",
       "      <td>1</td>\n",
       "      <td>0</td>\n",
       "      <td>0</td>\n",
       "      <td>1</td>\n",
       "      <td>1</td>\n",
       "    </tr>\n",
       "    <tr>\n",
       "      <th>4</th>\n",
       "      <td>4</td>\n",
       "      <td>17474</td>\n",
       "      <td>1</td>\n",
       "      <td>156</td>\n",
       "      <td>56.0</td>\n",
       "      <td>100</td>\n",
       "      <td>60</td>\n",
       "      <td>1</td>\n",
       "      <td>1</td>\n",
       "      <td>0</td>\n",
       "      <td>0</td>\n",
       "      <td>0</td>\n",
       "      <td>0</td>\n",
       "    </tr>\n",
       "  </tbody>\n",
       "</table>\n",
       "</div>"
      ],
      "text/plain": [
       "   id    age  gender  height  weight  ap_hi  ap_lo  cholesterol  gluc  smoke  \\\n",
       "0   0  18393       2     168    62.0    110     80            1     1      0   \n",
       "1   1  20228       1     156    85.0    140     90            3     1      0   \n",
       "2   2  18857       1     165    64.0    130     70            3     1      0   \n",
       "3   3  17623       2     169    82.0    150    100            1     1      0   \n",
       "4   4  17474       1     156    56.0    100     60            1     1      0   \n",
       "\n",
       "   alco  active  cardio  \n",
       "0     0       1       0  \n",
       "1     0       1       1  \n",
       "2     0       0       1  \n",
       "3     0       1       1  \n",
       "4     0       0       0  "
      ]
     },
     "execution_count": 6,
     "metadata": {},
     "output_type": "execute_result"
    }
   ],
   "source": [
    "df.head()"
   ]
  },
  {
   "cell_type": "markdown",
   "id": "8f23365f",
   "metadata": {},
   "source": [
    "# Структура датасета\n",
    "<br>\n",
    "\n",
    "<p style=\"margin-left: 4px; font-family: Arial;\">По умолчанию наш датасет имеет следующие фичи:</p>\n",
    "<br>\n",
    "\n",
    "| Столбец | Фича | Тип столбца, значения |\n",
    "| ----- | -----|----- |\n",
    "| id | id пациента | int |\n",
    "| age | Возраст | int (кол-во дней) |\n",
    "| gender | Пол | int (1 или 2) |\n",
    "| height | Рост | int (сантиметры) |\n",
    "| weight | Вес | float (кг) |\n",
    "| ap_hi | Систолическое артериальное давление | int (мм. рт. ст.) |\n",
    "| ap_lo | Диастолическое артериальное давление | int (мм. рт. ст.) |\n",
    "| cholesterol | Уровен холестерина | int (1 - нормальный, 2 - повышенный, 3 - высокий) |\n",
    "| gluc | Уровен глюкозы | int (1 - нормальный, 2 - повышенный, 3 - высокий) |\n",
    "| smoke | Курение | int (0 - не курит, 1 - курит) |\n",
    "| alco | Употребление алкоголя | int (0 - не употребляет, 1 - употребляет) |\n",
    "| active | Физическая активность | int (0 - нет частой физ. нагрузки, 1 - есть) |\n",
    "| cardio | Наличие сердечно-сосудистых заболеваний | int (0 - нет, 1 - есть) |\n",
    "\n",
    "<br>\n",
    "\n",
    "<p style=\"margin-left: 4px; font-family: Arial;\">С данными не всё так хорошо, как может показаться на первый взгляд. Есть несколько проблем: </p>\n",
    "<br>\n",
    "<h4 style=\"font-family: Arial;\">Проблемы датасета: </h4>\n",
    "<ul style=\"font-family: Arial;\">\n",
    "    <li>Неизвестно, какой пол ознчают разные значения фичи gender, поскольку по умолчанию эта информация неизвестная. Необходимо выяснить</li>\n",
    "    <li>Нет гарантий, что значения у фич ap_hi и ap_lo адекватные: может оказаться, что ap_lo равен или больше ap_hi. Необходимо проверить и удалить мусор</li>\n",
    "    <li>Наличие фичи id не даёт нам никакой полезной информации, поэтому столбец id стоит удалить из датасета</li>\n",
    "    <li>Возраст в фиче age не даёт наглядного представления об этом самом возрасте, поскольку обычно он измеряется в годах, а не в днях. Для большей наглядности преобразуем эту фичу, чтобы она показывала кол-во прожитых лет</li>\n",
    "    <li>Нет данных о наличии выбросов у каких-либо фич. По этой причине необходимо определить столбцы, в которых выбросы могут негативно повлиять на качество анализа, и удалить их.</li>\n",
    "</ul>\n",
    "<br>\n",
    "<p style=\"margin-left: 4px; font-family: Arial;\">Также лучше вместо роста или веса использовать индекс массы тела (ИМТ), который рассчитывается по формуле:<br> <b>ИМТ = вес / (рост^2)</b></p>"
   ]
  },
  {
   "cell_type": "markdown",
   "id": "6465ae28",
   "metadata": {},
   "source": [
    "# Обработка данных\n",
    "<hr>\n",
    "\n",
    "<p style=\"margin-left: 4px; font-family: Arial;\">1. Удалим столбец id: </p>"
   ]
  },
  {
   "cell_type": "code",
   "execution_count": 7,
   "id": "3a6765b4",
   "metadata": {},
   "outputs": [],
   "source": [
    "df.drop(\"id\", axis=1, inplace=True)"
   ]
  },
  {
   "cell_type": "code",
   "execution_count": 8,
   "id": "0ec155e8",
   "metadata": {
    "scrolled": true
   },
   "outputs": [
    {
     "data": {
      "text/html": [
       "<div>\n",
       "<style scoped>\n",
       "    .dataframe tbody tr th:only-of-type {\n",
       "        vertical-align: middle;\n",
       "    }\n",
       "\n",
       "    .dataframe tbody tr th {\n",
       "        vertical-align: top;\n",
       "    }\n",
       "\n",
       "    .dataframe thead th {\n",
       "        text-align: right;\n",
       "    }\n",
       "</style>\n",
       "<table border=\"1\" class=\"dataframe\">\n",
       "  <thead>\n",
       "    <tr style=\"text-align: right;\">\n",
       "      <th></th>\n",
       "      <th>age</th>\n",
       "      <th>gender</th>\n",
       "      <th>height</th>\n",
       "      <th>weight</th>\n",
       "      <th>ap_hi</th>\n",
       "      <th>ap_lo</th>\n",
       "      <th>cholesterol</th>\n",
       "      <th>gluc</th>\n",
       "      <th>smoke</th>\n",
       "      <th>alco</th>\n",
       "      <th>active</th>\n",
       "      <th>cardio</th>\n",
       "    </tr>\n",
       "  </thead>\n",
       "  <tbody>\n",
       "    <tr>\n",
       "      <th>0</th>\n",
       "      <td>18393</td>\n",
       "      <td>2</td>\n",
       "      <td>168</td>\n",
       "      <td>62.0</td>\n",
       "      <td>110</td>\n",
       "      <td>80</td>\n",
       "      <td>1</td>\n",
       "      <td>1</td>\n",
       "      <td>0</td>\n",
       "      <td>0</td>\n",
       "      <td>1</td>\n",
       "      <td>0</td>\n",
       "    </tr>\n",
       "    <tr>\n",
       "      <th>1</th>\n",
       "      <td>20228</td>\n",
       "      <td>1</td>\n",
       "      <td>156</td>\n",
       "      <td>85.0</td>\n",
       "      <td>140</td>\n",
       "      <td>90</td>\n",
       "      <td>3</td>\n",
       "      <td>1</td>\n",
       "      <td>0</td>\n",
       "      <td>0</td>\n",
       "      <td>1</td>\n",
       "      <td>1</td>\n",
       "    </tr>\n",
       "    <tr>\n",
       "      <th>2</th>\n",
       "      <td>18857</td>\n",
       "      <td>1</td>\n",
       "      <td>165</td>\n",
       "      <td>64.0</td>\n",
       "      <td>130</td>\n",
       "      <td>70</td>\n",
       "      <td>3</td>\n",
       "      <td>1</td>\n",
       "      <td>0</td>\n",
       "      <td>0</td>\n",
       "      <td>0</td>\n",
       "      <td>1</td>\n",
       "    </tr>\n",
       "    <tr>\n",
       "      <th>3</th>\n",
       "      <td>17623</td>\n",
       "      <td>2</td>\n",
       "      <td>169</td>\n",
       "      <td>82.0</td>\n",
       "      <td>150</td>\n",
       "      <td>100</td>\n",
       "      <td>1</td>\n",
       "      <td>1</td>\n",
       "      <td>0</td>\n",
       "      <td>0</td>\n",
       "      <td>1</td>\n",
       "      <td>1</td>\n",
       "    </tr>\n",
       "    <tr>\n",
       "      <th>4</th>\n",
       "      <td>17474</td>\n",
       "      <td>1</td>\n",
       "      <td>156</td>\n",
       "      <td>56.0</td>\n",
       "      <td>100</td>\n",
       "      <td>60</td>\n",
       "      <td>1</td>\n",
       "      <td>1</td>\n",
       "      <td>0</td>\n",
       "      <td>0</td>\n",
       "      <td>0</td>\n",
       "      <td>0</td>\n",
       "    </tr>\n",
       "  </tbody>\n",
       "</table>\n",
       "</div>"
      ],
      "text/plain": [
       "     age  gender  height  weight  ap_hi  ap_lo  cholesterol  gluc  smoke  \\\n",
       "0  18393       2     168    62.0    110     80            1     1      0   \n",
       "1  20228       1     156    85.0    140     90            3     1      0   \n",
       "2  18857       1     165    64.0    130     70            3     1      0   \n",
       "3  17623       2     169    82.0    150    100            1     1      0   \n",
       "4  17474       1     156    56.0    100     60            1     1      0   \n",
       "\n",
       "   alco  active  cardio  \n",
       "0     0       1       0  \n",
       "1     0       1       1  \n",
       "2     0       0       1  \n",
       "3     0       1       1  \n",
       "4     0       0       0  "
      ]
     },
     "execution_count": 8,
     "metadata": {},
     "output_type": "execute_result"
    }
   ],
   "source": [
    "df.head()"
   ]
  },
  {
   "cell_type": "markdown",
   "id": "0b9b37d1",
   "metadata": {},
   "source": [
    "<h4 style=\"font-family: Arial;\">2. Обработаем столбец gender:  </h4>\n",
    "<hr>\n",
    "\n",
    "<ul style=\"font-family: Arial;\">\n",
    "    <li>Поскольку gender отображает лишь мужчин и женщин, то для простоты можно уменьшить все значения этой фичи на единицу, теперь в ней будут значения [0, 1]</li>\n",
    "    <li>Необходимо понять, какое значение из [0, 1] отвечает за мужчин, а какое за женщин. Можно сделать это, посмотрев на значение среднего рост у каждой из групп: мужчины в среднем выше, поэтому группа с большим ростом - мужчины, а с меньшим - женщины</li>\n",
    "</ul>"
   ]
  },
  {
   "cell_type": "code",
   "execution_count": 9,
   "id": "8ab270d6",
   "metadata": {},
   "outputs": [
    {
     "data": {
      "text/plain": [
       "gender\n",
       "0    161.355612\n",
       "1    169.947895\n",
       "Name: height, dtype: float64"
      ]
     },
     "execution_count": 9,
     "metadata": {},
     "output_type": "execute_result"
    }
   ],
   "source": [
    "df[\"gender\"] -= 1\n",
    "df.groupby(\"gender\")[\"height\"].mean()"
   ]
  },
  {
   "cell_type": "markdown",
   "id": "9be4252e",
   "metadata": {},
   "source": [
    "<p style=\"margin-left: 4px; font-family: Arial;\">Итак, средний рост у группы 1 больше, чем у группы 0 => группа 1 - мужчины, группа 0 - женщины</p>"
   ]
  },
  {
   "cell_type": "markdown",
   "id": "627d5659",
   "metadata": {},
   "source": [
    "<h4 style=\"font-family: Arial;\">3. Обработаем ap_hi и ap_lo: </h4>\n",
    "<hr>\n",
    "<ul style=\"font-family: Arial;\">\n",
    "    <li>Сначала проверим, есть ли в датасете ячейки с неправильными значениями ap_hi и ap_lo</li>\n",
    "    <li>Если есть, то удалим их из датасета</li>\n",
    "</ul>"
   ]
  },
  {
   "cell_type": "code",
   "execution_count": 10,
   "id": "5f5d2890",
   "metadata": {
    "scrolled": false
   },
   "outputs": [
    {
     "data": {
      "text/html": [
       "<div>\n",
       "<style scoped>\n",
       "    .dataframe tbody tr th:only-of-type {\n",
       "        vertical-align: middle;\n",
       "    }\n",
       "\n",
       "    .dataframe tbody tr th {\n",
       "        vertical-align: top;\n",
       "    }\n",
       "\n",
       "    .dataframe thead th {\n",
       "        text-align: right;\n",
       "    }\n",
       "</style>\n",
       "<table border=\"1\" class=\"dataframe\">\n",
       "  <thead>\n",
       "    <tr style=\"text-align: right;\">\n",
       "      <th></th>\n",
       "      <th>age</th>\n",
       "      <th>gender</th>\n",
       "      <th>height</th>\n",
       "      <th>weight</th>\n",
       "      <th>ap_hi</th>\n",
       "      <th>ap_lo</th>\n",
       "      <th>cholesterol</th>\n",
       "      <th>gluc</th>\n",
       "      <th>smoke</th>\n",
       "      <th>alco</th>\n",
       "      <th>active</th>\n",
       "      <th>cardio</th>\n",
       "    </tr>\n",
       "  </thead>\n",
       "  <tbody>\n",
       "    <tr>\n",
       "      <th>228</th>\n",
       "      <td>17489</td>\n",
       "      <td>1</td>\n",
       "      <td>183</td>\n",
       "      <td>98.0</td>\n",
       "      <td>160</td>\n",
       "      <td>1100</td>\n",
       "      <td>1</td>\n",
       "      <td>2</td>\n",
       "      <td>1</td>\n",
       "      <td>0</td>\n",
       "      <td>1</td>\n",
       "      <td>1</td>\n",
       "    </tr>\n",
       "    <tr>\n",
       "      <th>241</th>\n",
       "      <td>21932</td>\n",
       "      <td>1</td>\n",
       "      <td>157</td>\n",
       "      <td>60.0</td>\n",
       "      <td>160</td>\n",
       "      <td>1000</td>\n",
       "      <td>2</td>\n",
       "      <td>1</td>\n",
       "      <td>0</td>\n",
       "      <td>0</td>\n",
       "      <td>0</td>\n",
       "      <td>1</td>\n",
       "    </tr>\n",
       "    <tr>\n",
       "      <th>260</th>\n",
       "      <td>18217</td>\n",
       "      <td>0</td>\n",
       "      <td>150</td>\n",
       "      <td>83.0</td>\n",
       "      <td>140</td>\n",
       "      <td>800</td>\n",
       "      <td>1</td>\n",
       "      <td>1</td>\n",
       "      <td>0</td>\n",
       "      <td>0</td>\n",
       "      <td>1</td>\n",
       "      <td>1</td>\n",
       "    </tr>\n",
       "    <tr>\n",
       "      <th>329</th>\n",
       "      <td>23407</td>\n",
       "      <td>0</td>\n",
       "      <td>176</td>\n",
       "      <td>63.0</td>\n",
       "      <td>160</td>\n",
       "      <td>1000</td>\n",
       "      <td>2</td>\n",
       "      <td>2</td>\n",
       "      <td>0</td>\n",
       "      <td>0</td>\n",
       "      <td>0</td>\n",
       "      <td>1</td>\n",
       "    </tr>\n",
       "    <tr>\n",
       "      <th>345</th>\n",
       "      <td>18704</td>\n",
       "      <td>0</td>\n",
       "      <td>154</td>\n",
       "      <td>81.0</td>\n",
       "      <td>140</td>\n",
       "      <td>1000</td>\n",
       "      <td>2</td>\n",
       "      <td>1</td>\n",
       "      <td>0</td>\n",
       "      <td>0</td>\n",
       "      <td>1</td>\n",
       "      <td>1</td>\n",
       "    </tr>\n",
       "    <tr>\n",
       "      <th>...</th>\n",
       "      <td>...</td>\n",
       "      <td>...</td>\n",
       "      <td>...</td>\n",
       "      <td>...</td>\n",
       "      <td>...</td>\n",
       "      <td>...</td>\n",
       "      <td>...</td>\n",
       "      <td>...</td>\n",
       "      <td>...</td>\n",
       "      <td>...</td>\n",
       "      <td>...</td>\n",
       "      <td>...</td>\n",
       "    </tr>\n",
       "    <tr>\n",
       "      <th>69771</th>\n",
       "      <td>23330</td>\n",
       "      <td>0</td>\n",
       "      <td>167</td>\n",
       "      <td>81.0</td>\n",
       "      <td>160</td>\n",
       "      <td>1000</td>\n",
       "      <td>1</td>\n",
       "      <td>1</td>\n",
       "      <td>0</td>\n",
       "      <td>0</td>\n",
       "      <td>1</td>\n",
       "      <td>1</td>\n",
       "    </tr>\n",
       "    <tr>\n",
       "      <th>69872</th>\n",
       "      <td>21808</td>\n",
       "      <td>0</td>\n",
       "      <td>152</td>\n",
       "      <td>56.0</td>\n",
       "      <td>160</td>\n",
       "      <td>1000</td>\n",
       "      <td>1</td>\n",
       "      <td>1</td>\n",
       "      <td>0</td>\n",
       "      <td>0</td>\n",
       "      <td>1</td>\n",
       "      <td>1</td>\n",
       "    </tr>\n",
       "    <tr>\n",
       "      <th>69878</th>\n",
       "      <td>21239</td>\n",
       "      <td>1</td>\n",
       "      <td>168</td>\n",
       "      <td>95.0</td>\n",
       "      <td>160</td>\n",
       "      <td>1000</td>\n",
       "      <td>1</td>\n",
       "      <td>1</td>\n",
       "      <td>0</td>\n",
       "      <td>0</td>\n",
       "      <td>1</td>\n",
       "      <td>1</td>\n",
       "    </tr>\n",
       "    <tr>\n",
       "      <th>69885</th>\n",
       "      <td>22417</td>\n",
       "      <td>1</td>\n",
       "      <td>166</td>\n",
       "      <td>78.0</td>\n",
       "      <td>170</td>\n",
       "      <td>1000</td>\n",
       "      <td>1</td>\n",
       "      <td>1</td>\n",
       "      <td>0</td>\n",
       "      <td>0</td>\n",
       "      <td>0</td>\n",
       "      <td>0</td>\n",
       "    </tr>\n",
       "    <tr>\n",
       "      <th>69967</th>\n",
       "      <td>21416</td>\n",
       "      <td>1</td>\n",
       "      <td>168</td>\n",
       "      <td>63.0</td>\n",
       "      <td>140</td>\n",
       "      <td>1000</td>\n",
       "      <td>1</td>\n",
       "      <td>1</td>\n",
       "      <td>0</td>\n",
       "      <td>0</td>\n",
       "      <td>1</td>\n",
       "      <td>1</td>\n",
       "    </tr>\n",
       "  </tbody>\n",
       "</table>\n",
       "<p>1236 rows × 12 columns</p>\n",
       "</div>"
      ],
      "text/plain": [
       "         age  gender  height  weight  ap_hi  ap_lo  cholesterol  gluc  smoke  \\\n",
       "228    17489       1     183    98.0    160   1100            1     2      1   \n",
       "241    21932       1     157    60.0    160   1000            2     1      0   \n",
       "260    18217       0     150    83.0    140    800            1     1      0   \n",
       "329    23407       0     176    63.0    160   1000            2     2      0   \n",
       "345    18704       0     154    81.0    140   1000            2     1      0   \n",
       "...      ...     ...     ...     ...    ...    ...          ...   ...    ...   \n",
       "69771  23330       0     167    81.0    160   1000            1     1      0   \n",
       "69872  21808       0     152    56.0    160   1000            1     1      0   \n",
       "69878  21239       1     168    95.0    160   1000            1     1      0   \n",
       "69885  22417       1     166    78.0    170   1000            1     1      0   \n",
       "69967  21416       1     168    63.0    140   1000            1     1      0   \n",
       "\n",
       "       alco  active  cardio  \n",
       "228       0       1       1  \n",
       "241       0       0       1  \n",
       "260       0       1       1  \n",
       "329       0       0       1  \n",
       "345       0       1       1  \n",
       "...     ...     ...     ...  \n",
       "69771     0       1       1  \n",
       "69872     0       1       1  \n",
       "69878     0       1       1  \n",
       "69885     0       0       0  \n",
       "69967     0       1       1  \n",
       "\n",
       "[1236 rows x 12 columns]"
      ]
     },
     "execution_count": 10,
     "metadata": {},
     "output_type": "execute_result"
    }
   ],
   "source": [
    "df[df[\"ap_hi\"] <= df[\"ap_lo\"]]"
   ]
  },
  {
   "cell_type": "markdown",
   "id": "951a5541",
   "metadata": {},
   "source": [
    "<p style=\"margin-left: 4px; font-family: Arial;\">Такие ячейки есть, следовательно, удаляем их: </p>"
   ]
  },
  {
   "cell_type": "code",
   "execution_count": 11,
   "id": "1da59583",
   "metadata": {},
   "outputs": [],
   "source": [
    "df = df.loc[df[\"ap_hi\"] > df[\"ap_lo\"]]"
   ]
  },
  {
   "cell_type": "code",
   "execution_count": 12,
   "id": "1e685fbb",
   "metadata": {
    "scrolled": true
   },
   "outputs": [
    {
     "data": {
      "text/html": [
       "<div>\n",
       "<style scoped>\n",
       "    .dataframe tbody tr th:only-of-type {\n",
       "        vertical-align: middle;\n",
       "    }\n",
       "\n",
       "    .dataframe tbody tr th {\n",
       "        vertical-align: top;\n",
       "    }\n",
       "\n",
       "    .dataframe thead th {\n",
       "        text-align: right;\n",
       "    }\n",
       "</style>\n",
       "<table border=\"1\" class=\"dataframe\">\n",
       "  <thead>\n",
       "    <tr style=\"text-align: right;\">\n",
       "      <th></th>\n",
       "      <th>age</th>\n",
       "      <th>gender</th>\n",
       "      <th>height</th>\n",
       "      <th>weight</th>\n",
       "      <th>ap_hi</th>\n",
       "      <th>ap_lo</th>\n",
       "      <th>cholesterol</th>\n",
       "      <th>gluc</th>\n",
       "      <th>smoke</th>\n",
       "      <th>alco</th>\n",
       "      <th>active</th>\n",
       "      <th>cardio</th>\n",
       "    </tr>\n",
       "  </thead>\n",
       "  <tbody>\n",
       "    <tr>\n",
       "      <th>0</th>\n",
       "      <td>18393</td>\n",
       "      <td>1</td>\n",
       "      <td>168</td>\n",
       "      <td>62.0</td>\n",
       "      <td>110</td>\n",
       "      <td>80</td>\n",
       "      <td>1</td>\n",
       "      <td>1</td>\n",
       "      <td>0</td>\n",
       "      <td>0</td>\n",
       "      <td>1</td>\n",
       "      <td>0</td>\n",
       "    </tr>\n",
       "    <tr>\n",
       "      <th>1</th>\n",
       "      <td>20228</td>\n",
       "      <td>0</td>\n",
       "      <td>156</td>\n",
       "      <td>85.0</td>\n",
       "      <td>140</td>\n",
       "      <td>90</td>\n",
       "      <td>3</td>\n",
       "      <td>1</td>\n",
       "      <td>0</td>\n",
       "      <td>0</td>\n",
       "      <td>1</td>\n",
       "      <td>1</td>\n",
       "    </tr>\n",
       "    <tr>\n",
       "      <th>2</th>\n",
       "      <td>18857</td>\n",
       "      <td>0</td>\n",
       "      <td>165</td>\n",
       "      <td>64.0</td>\n",
       "      <td>130</td>\n",
       "      <td>70</td>\n",
       "      <td>3</td>\n",
       "      <td>1</td>\n",
       "      <td>0</td>\n",
       "      <td>0</td>\n",
       "      <td>0</td>\n",
       "      <td>1</td>\n",
       "    </tr>\n",
       "    <tr>\n",
       "      <th>3</th>\n",
       "      <td>17623</td>\n",
       "      <td>1</td>\n",
       "      <td>169</td>\n",
       "      <td>82.0</td>\n",
       "      <td>150</td>\n",
       "      <td>100</td>\n",
       "      <td>1</td>\n",
       "      <td>1</td>\n",
       "      <td>0</td>\n",
       "      <td>0</td>\n",
       "      <td>1</td>\n",
       "      <td>1</td>\n",
       "    </tr>\n",
       "    <tr>\n",
       "      <th>4</th>\n",
       "      <td>17474</td>\n",
       "      <td>0</td>\n",
       "      <td>156</td>\n",
       "      <td>56.0</td>\n",
       "      <td>100</td>\n",
       "      <td>60</td>\n",
       "      <td>1</td>\n",
       "      <td>1</td>\n",
       "      <td>0</td>\n",
       "      <td>0</td>\n",
       "      <td>0</td>\n",
       "      <td>0</td>\n",
       "    </tr>\n",
       "  </tbody>\n",
       "</table>\n",
       "</div>"
      ],
      "text/plain": [
       "     age  gender  height  weight  ap_hi  ap_lo  cholesterol  gluc  smoke  \\\n",
       "0  18393       1     168    62.0    110     80            1     1      0   \n",
       "1  20228       0     156    85.0    140     90            3     1      0   \n",
       "2  18857       0     165    64.0    130     70            3     1      0   \n",
       "3  17623       1     169    82.0    150    100            1     1      0   \n",
       "4  17474       0     156    56.0    100     60            1     1      0   \n",
       "\n",
       "   alco  active  cardio  \n",
       "0     0       1       0  \n",
       "1     0       1       1  \n",
       "2     0       0       1  \n",
       "3     0       1       1  \n",
       "4     0       0       0  "
      ]
     },
     "execution_count": 12,
     "metadata": {},
     "output_type": "execute_result"
    }
   ],
   "source": [
    "df.head()"
   ]
  },
  {
   "cell_type": "markdown",
   "id": "81bc9fb7",
   "metadata": {},
   "source": [
    "<h4 style=\"font-family: Arial;\">4. Обработаем фичу age: </h4>\n",
    "<hr>\n",
    "<ul style=\"font-family: Arial;\">\n",
    "    <li>Переведём значения age из дней в года</li>\n",
    "    <li>Изменим тип на целочисленный для наглядного представления</li>\n",
    "</ul>"
   ]
  },
  {
   "cell_type": "code",
   "execution_count": 13,
   "id": "611f05fd",
   "metadata": {},
   "outputs": [],
   "source": [
    "df[\"age\"] = (df[\"age\"] / 365.25).astype(\"uint32\")"
   ]
  },
  {
   "cell_type": "code",
   "execution_count": 14,
   "id": "99fcfa0e",
   "metadata": {
    "scrolled": true
   },
   "outputs": [
    {
     "data": {
      "text/html": [
       "<div>\n",
       "<style scoped>\n",
       "    .dataframe tbody tr th:only-of-type {\n",
       "        vertical-align: middle;\n",
       "    }\n",
       "\n",
       "    .dataframe tbody tr th {\n",
       "        vertical-align: top;\n",
       "    }\n",
       "\n",
       "    .dataframe thead th {\n",
       "        text-align: right;\n",
       "    }\n",
       "</style>\n",
       "<table border=\"1\" class=\"dataframe\">\n",
       "  <thead>\n",
       "    <tr style=\"text-align: right;\">\n",
       "      <th></th>\n",
       "      <th>age</th>\n",
       "      <th>gender</th>\n",
       "      <th>height</th>\n",
       "      <th>weight</th>\n",
       "      <th>ap_hi</th>\n",
       "      <th>ap_lo</th>\n",
       "      <th>cholesterol</th>\n",
       "      <th>gluc</th>\n",
       "      <th>smoke</th>\n",
       "      <th>alco</th>\n",
       "      <th>active</th>\n",
       "      <th>cardio</th>\n",
       "    </tr>\n",
       "  </thead>\n",
       "  <tbody>\n",
       "    <tr>\n",
       "      <th>0</th>\n",
       "      <td>50</td>\n",
       "      <td>1</td>\n",
       "      <td>168</td>\n",
       "      <td>62.0</td>\n",
       "      <td>110</td>\n",
       "      <td>80</td>\n",
       "      <td>1</td>\n",
       "      <td>1</td>\n",
       "      <td>0</td>\n",
       "      <td>0</td>\n",
       "      <td>1</td>\n",
       "      <td>0</td>\n",
       "    </tr>\n",
       "    <tr>\n",
       "      <th>1</th>\n",
       "      <td>55</td>\n",
       "      <td>0</td>\n",
       "      <td>156</td>\n",
       "      <td>85.0</td>\n",
       "      <td>140</td>\n",
       "      <td>90</td>\n",
       "      <td>3</td>\n",
       "      <td>1</td>\n",
       "      <td>0</td>\n",
       "      <td>0</td>\n",
       "      <td>1</td>\n",
       "      <td>1</td>\n",
       "    </tr>\n",
       "    <tr>\n",
       "      <th>2</th>\n",
       "      <td>51</td>\n",
       "      <td>0</td>\n",
       "      <td>165</td>\n",
       "      <td>64.0</td>\n",
       "      <td>130</td>\n",
       "      <td>70</td>\n",
       "      <td>3</td>\n",
       "      <td>1</td>\n",
       "      <td>0</td>\n",
       "      <td>0</td>\n",
       "      <td>0</td>\n",
       "      <td>1</td>\n",
       "    </tr>\n",
       "    <tr>\n",
       "      <th>3</th>\n",
       "      <td>48</td>\n",
       "      <td>1</td>\n",
       "      <td>169</td>\n",
       "      <td>82.0</td>\n",
       "      <td>150</td>\n",
       "      <td>100</td>\n",
       "      <td>1</td>\n",
       "      <td>1</td>\n",
       "      <td>0</td>\n",
       "      <td>0</td>\n",
       "      <td>1</td>\n",
       "      <td>1</td>\n",
       "    </tr>\n",
       "    <tr>\n",
       "      <th>4</th>\n",
       "      <td>47</td>\n",
       "      <td>0</td>\n",
       "      <td>156</td>\n",
       "      <td>56.0</td>\n",
       "      <td>100</td>\n",
       "      <td>60</td>\n",
       "      <td>1</td>\n",
       "      <td>1</td>\n",
       "      <td>0</td>\n",
       "      <td>0</td>\n",
       "      <td>0</td>\n",
       "      <td>0</td>\n",
       "    </tr>\n",
       "  </tbody>\n",
       "</table>\n",
       "</div>"
      ],
      "text/plain": [
       "   age  gender  height  weight  ap_hi  ap_lo  cholesterol  gluc  smoke  alco  \\\n",
       "0   50       1     168    62.0    110     80            1     1      0     0   \n",
       "1   55       0     156    85.0    140     90            3     1      0     0   \n",
       "2   51       0     165    64.0    130     70            3     1      0     0   \n",
       "3   48       1     169    82.0    150    100            1     1      0     0   \n",
       "4   47       0     156    56.0    100     60            1     1      0     0   \n",
       "\n",
       "   active  cardio  \n",
       "0       1       0  \n",
       "1       1       1  \n",
       "2       0       1  \n",
       "3       1       1  \n",
       "4       0       0  "
      ]
     },
     "execution_count": 14,
     "metadata": {},
     "output_type": "execute_result"
    }
   ],
   "source": [
    "df.head()"
   ]
  },
  {
   "cell_type": "markdown",
   "id": "2362ffba",
   "metadata": {},
   "source": [
    "<h4 style=\"font-family: Arial;\">5. Добавим фичу bmi, которая будет отражать ИМТ: </h4>\n",
    "<hr>\n",
    "<ul style=\"font-family: Arial;\">\n",
    "    <li>Посчитаём столбец и добавим его в датасет</li>\n",
    "</ul>"
   ]
  },
  {
   "cell_type": "code",
   "execution_count": 15,
   "id": "2e5a29e7",
   "metadata": {},
   "outputs": [],
   "source": [
    "df[\"BMI\"] = df[\"weight\"] / ((df[\"height\"] / 100) ** 2)"
   ]
  },
  {
   "cell_type": "code",
   "execution_count": 16,
   "id": "eb1743dd",
   "metadata": {},
   "outputs": [
    {
     "data": {
      "text/html": [
       "<div>\n",
       "<style scoped>\n",
       "    .dataframe tbody tr th:only-of-type {\n",
       "        vertical-align: middle;\n",
       "    }\n",
       "\n",
       "    .dataframe tbody tr th {\n",
       "        vertical-align: top;\n",
       "    }\n",
       "\n",
       "    .dataframe thead th {\n",
       "        text-align: right;\n",
       "    }\n",
       "</style>\n",
       "<table border=\"1\" class=\"dataframe\">\n",
       "  <thead>\n",
       "    <tr style=\"text-align: right;\">\n",
       "      <th></th>\n",
       "      <th>age</th>\n",
       "      <th>gender</th>\n",
       "      <th>height</th>\n",
       "      <th>weight</th>\n",
       "      <th>ap_hi</th>\n",
       "      <th>ap_lo</th>\n",
       "      <th>cholesterol</th>\n",
       "      <th>gluc</th>\n",
       "      <th>smoke</th>\n",
       "      <th>alco</th>\n",
       "      <th>active</th>\n",
       "      <th>cardio</th>\n",
       "      <th>BMI</th>\n",
       "    </tr>\n",
       "  </thead>\n",
       "  <tbody>\n",
       "    <tr>\n",
       "      <th>0</th>\n",
       "      <td>50</td>\n",
       "      <td>1</td>\n",
       "      <td>168</td>\n",
       "      <td>62.0</td>\n",
       "      <td>110</td>\n",
       "      <td>80</td>\n",
       "      <td>1</td>\n",
       "      <td>1</td>\n",
       "      <td>0</td>\n",
       "      <td>0</td>\n",
       "      <td>1</td>\n",
       "      <td>0</td>\n",
       "      <td>21.967120</td>\n",
       "    </tr>\n",
       "    <tr>\n",
       "      <th>1</th>\n",
       "      <td>55</td>\n",
       "      <td>0</td>\n",
       "      <td>156</td>\n",
       "      <td>85.0</td>\n",
       "      <td>140</td>\n",
       "      <td>90</td>\n",
       "      <td>3</td>\n",
       "      <td>1</td>\n",
       "      <td>0</td>\n",
       "      <td>0</td>\n",
       "      <td>1</td>\n",
       "      <td>1</td>\n",
       "      <td>34.927679</td>\n",
       "    </tr>\n",
       "    <tr>\n",
       "      <th>2</th>\n",
       "      <td>51</td>\n",
       "      <td>0</td>\n",
       "      <td>165</td>\n",
       "      <td>64.0</td>\n",
       "      <td>130</td>\n",
       "      <td>70</td>\n",
       "      <td>3</td>\n",
       "      <td>1</td>\n",
       "      <td>0</td>\n",
       "      <td>0</td>\n",
       "      <td>0</td>\n",
       "      <td>1</td>\n",
       "      <td>23.507805</td>\n",
       "    </tr>\n",
       "    <tr>\n",
       "      <th>3</th>\n",
       "      <td>48</td>\n",
       "      <td>1</td>\n",
       "      <td>169</td>\n",
       "      <td>82.0</td>\n",
       "      <td>150</td>\n",
       "      <td>100</td>\n",
       "      <td>1</td>\n",
       "      <td>1</td>\n",
       "      <td>0</td>\n",
       "      <td>0</td>\n",
       "      <td>1</td>\n",
       "      <td>1</td>\n",
       "      <td>28.710479</td>\n",
       "    </tr>\n",
       "    <tr>\n",
       "      <th>4</th>\n",
       "      <td>47</td>\n",
       "      <td>0</td>\n",
       "      <td>156</td>\n",
       "      <td>56.0</td>\n",
       "      <td>100</td>\n",
       "      <td>60</td>\n",
       "      <td>1</td>\n",
       "      <td>1</td>\n",
       "      <td>0</td>\n",
       "      <td>0</td>\n",
       "      <td>0</td>\n",
       "      <td>0</td>\n",
       "      <td>23.011177</td>\n",
       "    </tr>\n",
       "  </tbody>\n",
       "</table>\n",
       "</div>"
      ],
      "text/plain": [
       "   age  gender  height  weight  ap_hi  ap_lo  cholesterol  gluc  smoke  alco  \\\n",
       "0   50       1     168    62.0    110     80            1     1      0     0   \n",
       "1   55       0     156    85.0    140     90            3     1      0     0   \n",
       "2   51       0     165    64.0    130     70            3     1      0     0   \n",
       "3   48       1     169    82.0    150    100            1     1      0     0   \n",
       "4   47       0     156    56.0    100     60            1     1      0     0   \n",
       "\n",
       "   active  cardio        BMI  \n",
       "0       1       0  21.967120  \n",
       "1       1       1  34.927679  \n",
       "2       0       1  23.507805  \n",
       "3       1       1  28.710479  \n",
       "4       0       0  23.011177  "
      ]
     },
     "execution_count": 16,
     "metadata": {},
     "output_type": "execute_result"
    }
   ],
   "source": [
    "df.head()"
   ]
  },
  {
   "cell_type": "code",
   "execution_count": 17,
   "id": "b86c1290",
   "metadata": {},
   "outputs": [
    {
     "data": {
      "text/plain": [
       "(68764, 13)"
      ]
     },
     "execution_count": 17,
     "metadata": {},
     "output_type": "execute_result"
    }
   ],
   "source": [
    "df.shape"
   ]
  },
  {
   "cell_type": "markdown",
   "id": "c9101f22",
   "metadata": {},
   "source": [
    "<h4 style=\"font-family: Arial;\">6. Удалим выбросы из датасета: </h4>\n",
    "<hr>\n",
    "<ul style=\"font-family: Arial;\">\n",
    "    <li>Поскольку не сказано, в каких столбцах могут выбросы, то необходимо определить эти самые столбцы.</li>\n",
    "    <li>Выбросы могут иметь только данные с численным типом, поэтому очищать будем столбцы ap_lo, ap_hi и bmi.</li>\n",
    "    <li>Очищать height и weight не будем, поскольку вместо них мы будем использовать фичу bmi </b>\n",
    "</ul>\n",
    "<br>\n",
    "<p style=\"margin-left: 4px; font-family: Arial;\">Нормальными будем считать те данные, которые находятся в диапазоне от 2.5  процетиля до 97.5 процентиля.</p>"
   ]
  },
  {
   "cell_type": "code",
   "execution_count": 18,
   "id": "80258766",
   "metadata": {},
   "outputs": [],
   "source": [
    "df = df.loc[(df[\"ap_lo\"] >= df[\"ap_lo\"].quantile(.025)) &\n",
    "       (df[\"ap_lo\"] <= df[\"ap_lo\"].quantile(.975)) &\n",
    "       (df[\"ap_hi\"] >= df[\"ap_hi\"].quantile(.025)) &\n",
    "       (df[\"ap_hi\"] <= df[\"ap_hi\"].quantile(.975)) &\n",
    "       (df[\"BMI\"] >= df[\"BMI\"].quantile(.025)) &\n",
    "       (df[\"BMI\"] <= df[\"BMI\"].quantile(.975))]"
   ]
  },
  {
   "cell_type": "code",
   "execution_count": 19,
   "id": "352f149e",
   "metadata": {
    "scrolled": true
   },
   "outputs": [
    {
     "data": {
      "text/html": [
       "<div>\n",
       "<style scoped>\n",
       "    .dataframe tbody tr th:only-of-type {\n",
       "        vertical-align: middle;\n",
       "    }\n",
       "\n",
       "    .dataframe tbody tr th {\n",
       "        vertical-align: top;\n",
       "    }\n",
       "\n",
       "    .dataframe thead th {\n",
       "        text-align: right;\n",
       "    }\n",
       "</style>\n",
       "<table border=\"1\" class=\"dataframe\">\n",
       "  <thead>\n",
       "    <tr style=\"text-align: right;\">\n",
       "      <th></th>\n",
       "      <th>age</th>\n",
       "      <th>gender</th>\n",
       "      <th>height</th>\n",
       "      <th>weight</th>\n",
       "      <th>ap_hi</th>\n",
       "      <th>ap_lo</th>\n",
       "      <th>cholesterol</th>\n",
       "      <th>gluc</th>\n",
       "      <th>smoke</th>\n",
       "      <th>alco</th>\n",
       "      <th>active</th>\n",
       "      <th>cardio</th>\n",
       "      <th>BMI</th>\n",
       "    </tr>\n",
       "  </thead>\n",
       "  <tbody>\n",
       "    <tr>\n",
       "      <th>0</th>\n",
       "      <td>50</td>\n",
       "      <td>1</td>\n",
       "      <td>168</td>\n",
       "      <td>62.0</td>\n",
       "      <td>110</td>\n",
       "      <td>80</td>\n",
       "      <td>1</td>\n",
       "      <td>1</td>\n",
       "      <td>0</td>\n",
       "      <td>0</td>\n",
       "      <td>1</td>\n",
       "      <td>0</td>\n",
       "      <td>21.967120</td>\n",
       "    </tr>\n",
       "    <tr>\n",
       "      <th>1</th>\n",
       "      <td>55</td>\n",
       "      <td>0</td>\n",
       "      <td>156</td>\n",
       "      <td>85.0</td>\n",
       "      <td>140</td>\n",
       "      <td>90</td>\n",
       "      <td>3</td>\n",
       "      <td>1</td>\n",
       "      <td>0</td>\n",
       "      <td>0</td>\n",
       "      <td>1</td>\n",
       "      <td>1</td>\n",
       "      <td>34.927679</td>\n",
       "    </tr>\n",
       "    <tr>\n",
       "      <th>2</th>\n",
       "      <td>51</td>\n",
       "      <td>0</td>\n",
       "      <td>165</td>\n",
       "      <td>64.0</td>\n",
       "      <td>130</td>\n",
       "      <td>70</td>\n",
       "      <td>3</td>\n",
       "      <td>1</td>\n",
       "      <td>0</td>\n",
       "      <td>0</td>\n",
       "      <td>0</td>\n",
       "      <td>1</td>\n",
       "      <td>23.507805</td>\n",
       "    </tr>\n",
       "    <tr>\n",
       "      <th>3</th>\n",
       "      <td>48</td>\n",
       "      <td>1</td>\n",
       "      <td>169</td>\n",
       "      <td>82.0</td>\n",
       "      <td>150</td>\n",
       "      <td>100</td>\n",
       "      <td>1</td>\n",
       "      <td>1</td>\n",
       "      <td>0</td>\n",
       "      <td>0</td>\n",
       "      <td>1</td>\n",
       "      <td>1</td>\n",
       "      <td>28.710479</td>\n",
       "    </tr>\n",
       "    <tr>\n",
       "      <th>4</th>\n",
       "      <td>47</td>\n",
       "      <td>0</td>\n",
       "      <td>156</td>\n",
       "      <td>56.0</td>\n",
       "      <td>100</td>\n",
       "      <td>60</td>\n",
       "      <td>1</td>\n",
       "      <td>1</td>\n",
       "      <td>0</td>\n",
       "      <td>0</td>\n",
       "      <td>0</td>\n",
       "      <td>0</td>\n",
       "      <td>23.011177</td>\n",
       "    </tr>\n",
       "  </tbody>\n",
       "</table>\n",
       "</div>"
      ],
      "text/plain": [
       "   age  gender  height  weight  ap_hi  ap_lo  cholesterol  gluc  smoke  alco  \\\n",
       "0   50       1     168    62.0    110     80            1     1      0     0   \n",
       "1   55       0     156    85.0    140     90            3     1      0     0   \n",
       "2   51       0     165    64.0    130     70            3     1      0     0   \n",
       "3   48       1     169    82.0    150    100            1     1      0     0   \n",
       "4   47       0     156    56.0    100     60            1     1      0     0   \n",
       "\n",
       "   active  cardio        BMI  \n",
       "0       1       0  21.967120  \n",
       "1       1       1  34.927679  \n",
       "2       0       1  23.507805  \n",
       "3       1       1  28.710479  \n",
       "4       0       0  23.011177  "
      ]
     },
     "execution_count": 19,
     "metadata": {},
     "output_type": "execute_result"
    }
   ],
   "source": [
    "df.head()"
   ]
  },
  {
   "cell_type": "code",
   "execution_count": 20,
   "id": "4eedc4bf",
   "metadata": {},
   "outputs": [
    {
     "data": {
      "text/plain": [
       "(62498, 13)"
      ]
     },
     "execution_count": 20,
     "metadata": {},
     "output_type": "execute_result"
    }
   ],
   "source": [
    "df.shape"
   ]
  },
  {
   "cell_type": "markdown",
   "id": "18d4b0ac",
   "metadata": {},
   "source": [
    "<p style=\"margin-left: 4px; font-family: Arial;\">Изначальное кол-во записей в датасете: 70 000, следовательно, было вырезано примерно 10.72 % мусора. Примерно, поскольку, может быть, что не всё то, что мы вырезали, являлось мусором. Однако, это незначительно и на качество анализа никак не повлияет.</p>"
   ]
  },
  {
   "cell_type": "markdown",
   "id": "20d72020",
   "metadata": {},
   "source": [
    "# Визуализация данных\n",
    "<hr>\n",
    "\n",
    "<p style=\"margin-left: 4px; font-family: Arial;\">Лучше всего начать анализ с построения матрицы корреляции, поскольку она уже на данном этапе может многое сказать нам о данных. Благодаря ей мы можем легко узнать, какие фичи нам стоит проанализировать и взять во внимание, а о каких можно и вовсе забыть</p>\n",
    "<br>\n",
    "<h4 style=\"font-family: Arial;\">1. Построим матрицу корреляции: </h4>"
   ]
  },
  {
   "cell_type": "code",
   "execution_count": 21,
   "id": "6702a8fa",
   "metadata": {
    "scrolled": false
   },
   "outputs": [
    {
     "data": {
      "text/plain": [
       "<AxesSubplot:>"
      ]
     },
     "execution_count": 21,
     "metadata": {},
     "output_type": "execute_result"
    },
    {
     "data": {
      "image/png": "[encoded data removed]",
      "text/plain": [
       "<Figure size 648x648 with 2 Axes>"
      ]
     },
     "metadata": {
      "image/png": {
       "height": 570,
       "width": 553
      }
     },
     "output_type": "display_data"
    }
   ],
   "source": [
    "correlation = df.corr()\n",
    "\n",
    "plt.figure(figsize=(9, 9))\n",
    "sns.heatmap(correlation, center=0, fmt=\".2f\", annot=True)"
   ]
  },
  {
   "cell_type": "markdown",
   "id": "05b14727",
   "metadata": {},
   "source": [
    "<h4 style=\"font-family: Arial;\">2. Анализ корреляций:</h4>\n",
    "<hr>\n",
    "<p style=\"margin-left: 4px; font-family: Arial;\">Матрица корреляций, как следует из названия, показала нам все корреляции между всеми признаками в нашем датасете. Но нас интересует лишь cardio.</p>\n",
    "<br>\n",
    "<h4 style=\"font-family: Arial;\">По корреляции с cardio все фичи можно разделить на 4 группы:</h4>\n",
    "\n",
    "<ul style=\"font-family: Arial;\">\n",
    "    <li>Сильнокоррелируемые (от 0.4)</li>\n",
    "    <li>Среднкореллируемые (0.15 - 0.4)</li>\n",
    "    <li>Слабокоррелируемые (0.01 - 0.15)</li>\n",
    "    <li>Некоррелируемые (0 - 0.01)</li>\n",
    "</ul>\n",
    "\n",
    "<br>\n",
    "<p style=\"margin-left: 4px; font-family: Arial;\">Разделение довольно условно, однако даёт примерное представление о полезных признаках для нашего анализа</p>\n",
    "<br>\n",
    "<h4 style=\"font-family: Arial;\">Исходя из вышеописанной классификации, разделим фичи на классы:</h4>\n",
    "\n",
    "<ul style=\"font-family: Arial;\">\n",
    "    <li>Сильнокоррелируемые (ap_hi)</li>\n",
    "    <li>Среднкореллируемые (ap_lo, age, cholesterol, weight, bmi)</li>\n",
    "    <li>Слабокоррелируемые (gluc, smoke, active)</li>\n",
    "    <li>Некоррелируемые (gender, height, alco)</li>\n",
    "</ul>\n",
    "<br>\n",
    "<p style=\"margin-left: 4px; font-family: Arial;\">Для обучения модели нам нужны лишь те фичи, которые больше всего коррелируют с cardio. По этой причине мы возмём лишь <b>ap_hi</b>, <b>ap_lo</b>, <b>age</b>, <b>cholesterol</b>, <b>weight</b> и <b>bmi</b></p>\n",
    "<p style=\"margin-left: 4px; font-family: Arial;\">Однако, мы не будем использовать их всех:</p>\n",
    "<ul style=\"font-family: Arial;\">\n",
    "    <li>Поскольку bmi высчитывается из weight и height, то weight мы брать не будем</li>\n",
    "    <li>ap_hi - очень хороший признак, ap_lo довольно сильно зависит от ap_hi. Из этого следует, что ap_lo для нашей модели мы брать не будем</li>\n",
    "    <li>bmi - самый слабокоррелируемый признак из взятых, поэтому мы оставим его на тот случай, если модель будет показывать неудолетворяющие результаты</li>\n",
    "</ul>\n",
    "<br>\n",
    "<p style=\"margin-left: 4px; font-family: Arial;\">В итоге для нашей модели мы будем использовать 3 признака: <b>ap_hi</b>, <b>cholesterol</b> и <b>age</b></p>"
   ]
  },
  {
   "cell_type": "markdown",
   "id": "0a2acd42",
   "metadata": {},
   "source": [
    "<h4 style=\"font-family: Arial;\">3. Анализ ap_hi</h4>\n",
    "<hr>\n",
    "<p style=\"margin-left: 4px; font-family: Arial;\">Фича ap_hi больше всех коррелирует с cardio, для визуализации этой корреляции построим графики:</p>"
   ]
  },
  {
   "cell_type": "code",
   "execution_count": 22,
   "id": "7d47d15f",
   "metadata": {
    "scrolled": true
   },
   "outputs": [
    {
     "data": {
      "image/png": "[encoded data removed]",
      "text/plain": [
       "<Figure size 648x648 with 1 Axes>"
      ]
     },
     "metadata": {
      "image/png": {
       "height": 553,
       "width": 559
      }
     },
     "output_type": "display_data"
    }
   ],
   "source": [
    "ax = sns.boxplot(x=\"cardio\", y=\"ap_hi\", data=df, palette=\"Spectral_r\", linewidth=2.5).set_title(\"Systolic pressure and Illness\")"
   ]
  },
  {
   "cell_type": "markdown",
   "id": "3d5cc4f8",
   "metadata": {},
   "source": [
    "<p style=\"margin-left: 4px; font-family: Arial;\">Из диаграммы видно, как сильно отличаютс значения давления у больных и здоровых: давление у большинства здоровых находится в диапазоне от 110 до 120, тогда как у больных - в диапазоне от 120 до 140. Отличаются и средние значения: у здоровых среднее значение давления находится примерно на уровне 120, а у больных - 130. (из диаграммы)</p>\n",
    "<br>\n",
    "<p style=\"margin-left: 4px; font-family: Arial;\">Найдём более точные значения:</p>"
   ]
  },
  {
   "cell_type": "code",
   "execution_count": 23,
   "id": "94b8123c",
   "metadata": {
    "scrolled": true
   },
   "outputs": [
    {
     "data": {
      "text/plain": [
       "cardio\n",
       "0    120.052635\n",
       "1    131.865392\n",
       "Name: ap_hi, dtype: float64"
      ]
     },
     "execution_count": 23,
     "metadata": {},
     "output_type": "execute_result"
    }
   ],
   "source": [
    "df.groupby(\"cardio\")[\"ap_hi\"].mean()"
   ]
  },
  {
   "cell_type": "markdown",
   "id": "0bab3b49",
   "metadata": {},
   "source": [
    "<p style=\"margin-left: 4px; font-family: Arial;\">Мы также можем найти экстремум ap_hi, т.е значение, после которого большинство людей уже будут иметь заболевания:</p>"
   ]
  },
  {
   "cell_type": "code",
   "execution_count": 24,
   "id": "024d295a",
   "metadata": {},
   "outputs": [
    {
     "data": {
      "text/plain": [
       "ap_hi\n",
       "104    0.833333\n",
       "130    0.598769\n",
       "131    0.666667\n",
       "134    0.600000\n",
       "135    0.688776\n",
       "Name: cardio, dtype: float64"
      ]
     },
     "execution_count": 24,
     "metadata": {},
     "output_type": "execute_result"
    }
   ],
   "source": [
    "ap_hi_values = df.groupby(\"ap_hi\")[\"cardio\"].mean()\n",
    "ap_hi_values[ap_hi_values > 0.5][:5]"
   ]
  },
  {
   "cell_type": "markdown",
   "id": "2b8b1494",
   "metadata": {},
   "source": [
    "<p style=\"margin-left: 4px; font-family: Arial;\">Значение 104 можно считать выбросом (скорее всего, у 104 просто небольшое кол-во записей), поэтому критическое значение давления - 130</p>"
   ]
  },
  {
   "cell_type": "markdown",
   "id": "6683bda2",
   "metadata": {},
   "source": [
    "<h4 style=\"font-family: Arial;\">Из вышеперечисленного можно сделать следующие выводы:</h4>\n",
    "<hr>\n",
    "<ul style=\"font-family: Arial;\">\n",
    "    <li>Давление сильнее всего влияет на здоровье сердечно-сосудистой системы</li>\n",
    "    <li>Важным является держать значение давления до 130, поскольку люди с этим давлением и выше имеют заболевания намного чаще</li>\n",
    "    <li>В профилакте заболеваний сердечно-сосудистой системы самым главным является контроль над уровнем давления в крови</li>\n",
    "</ul>"
   ]
  },
  {
   "cell_type": "markdown",
   "id": "8d84fe44",
   "metadata": {},
   "source": [
    "<h4 style=\"font-family: Arial;\">4. Анализ cholesterol</h4>\n",
    "<hr>\n",
    "<p style=\"margin-left: 4px; font-family: Arial;\">Фича cholesterol уже не так сильно коррелирует с cardio, но несмотря на это она может дать много полезной информации</p>\n",
    "<p style=\"margin-left: 4px; font-family: Arial;\">Поскольку cholesterol принимает лишь значения 1, 2 или 3, то нет смысла строить violinplot или boxplot. Вместо этого лучше всего подойдет countplot:</p>"
   ]
  },
  {
   "cell_type": "code",
   "execution_count": 25,
   "id": "ca080d9b",
   "metadata": {
    "scrolled": true
   },
   "outputs": [
    {
     "data": {
      "text/plain": [
       "Text(0.5, 1.0, 'Cholesterol and illness')"
      ]
     },
     "execution_count": 25,
     "metadata": {},
     "output_type": "execute_result"
    },
    {
     "data": {
      "image/png": "[encoded data removed]",
      "text/plain": [
       "<Figure size 648x648 with 1 Axes>"
      ]
     },
     "metadata": {
      "image/png": {
       "height": 553,
       "width": 572
      }
     },
     "output_type": "display_data"
    }
   ],
   "source": [
    "sns.countplot(x=\"cholesterol\", hue=\"cardio\", data=df, linewidth=2.5).set_title(\"Cholesterol and illness\")"
   ]
  },
  {
   "cell_type": "markdown",
   "id": "05c3859d",
   "metadata": {},
   "source": [
    "<p style=\"margin-left: 4px; font-family: Arial;\">По диаграмме видно, что countplot уже не так сильно влияет на cardio, как ap_hi, поскольку даже при нормальном уровне холестерина число людей с середчно-сосудистыми заболеваниями лишь примерно на 25 - 30 % меньше, чем здоровых. Однако очевидна закономерность: при значений cholesterol >= 1, число болеющих уже достаточно сильно превышает здоровых, а при значений 3 они и вовсе становятся подавляющим большинством</p>\n",
    "<br>\n",
    "<h4 style=\"font-family: Arial;\">Из этого можно сделать следующие выводы:</h4>\n",
    "<hr>\n",
    "<ul style=\"font-family: Arial;\">\n",
    "    <li>Холестерин хоть и не является главной причиной вознрикновения заболеваний, однако пагубно влияет на здоровье и даже при незначительном превышений нормы риск возникновения болезней резко повышается</li>\n",
    "    <li>Холестерин не является главной причиной возникновения заболеваний</li>\n",
    "    <li>Низкий холестерин не является показателем здоровья</li>\n",
    "</ul>"
   ]
  },
  {
   "cell_type": "markdown",
   "id": "d5b01453",
   "metadata": {},
   "source": [
    "<h4 style=\"font-family: Arial;\">5. Анализ age</h4>\n",
    "<hr>\n",
    "<p style=\"margin-left: 4px; font-family: Arial;\">Возраст оказывает большое влияние на все системы организма: сердечно-сосудистая система - не исключение. Чем больше возраст, тем больше износ этой и других систем, из-за чего начинают возникать разного рода заболевания.</p>\n",
    "<p style=\"margin-left: 4px; font-family: Arial;\">Поскольку возраст - независящее от человека значение, то имеет смысл лишь понять, как с возрастом меняется шанс развития сердечно-сосудистых заболеваний:</p>"
   ]
  },
  {
   "cell_type": "code",
   "execution_count": 26,
   "id": "99a67bca",
   "metadata": {},
   "outputs": [
    {
     "data": {
      "text/plain": [
       "Text(0.5, 1.0, 'Age and Illness')"
      ]
     },
     "execution_count": 26,
     "metadata": {},
     "output_type": "execute_result"
    },
    {
     "data": {
      "image/png": "[encoded data removed]",
      "text/plain": [
       "<Figure size 648x648 with 1 Axes>"
      ]
     },
     "metadata": {
      "image/png": {
       "height": 553,
       "width": 553
      }
     },
     "output_type": "display_data"
    }
   ],
   "source": [
    "sns.boxplot(x=\"cardio\", y=\"age\", data=df, palette=\"Spectral_r\", linewidth=2.5).set_title(\"Age and Illness\")"
   ]
  },
  {
   "cell_type": "markdown",
   "id": "850f18de",
   "metadata": {},
   "source": [
    "<p style=\"margin-left: 4px; font-family: Arial;\">Из диаграммы очевидно, что возраст в немалой степени влияет на возникновение заболеваний: средний возраст здоровых людей - примерно 52.5 лет, тогда как больных 55. К тому же рамки возраста большинства здоровых людей находятся в диапазоне от примерно 46 до 57, тогда как больных - от 50 до 59 лет.</p>\n",
    "<p style=\"margin-left: 4px; font-family: Arial;\">Отличаются также и общий диапазон значений возрастов: здоровые люди есть во всех возрастах, тогда как больные - лишь от примерно 39 лет</p>"
   ]
  },
  {
   "cell_type": "markdown",
   "id": "86c0dc5f",
   "metadata": {},
   "source": [
    "<p style=\"margin-left: 4px; font-family: Arial;\">Найдем возраст, после которого большинство людей начинают иметь сердечно-сосудистые заболевания:</p>"
   ]
  },
  {
   "cell_type": "code",
   "execution_count": 27,
   "id": "4a9f55f2",
   "metadata": {},
   "outputs": [
    {
     "data": {
      "text/plain": [
       "age\n",
       "55    0.536929\n",
       "56    0.522468\n",
       "57    0.562978\n",
       "58    0.535969\n",
       "59    0.605379\n",
       "60    0.570192\n",
       "61    0.674481\n",
       "62    0.661838\n",
       "63    0.720509\n",
       "64    0.704622\n",
       "Name: cardio, dtype: float64"
      ]
     },
     "execution_count": 27,
     "metadata": {},
     "output_type": "execute_result"
    }
   ],
   "source": [
    "age_cardio_values = df.groupby(\"age\")[\"cardio\"].mean()\n",
    "age_cardio_values[age_cardio_values > 0.5]"
   ]
  },
  {
   "cell_type": "markdown",
   "id": "d270a0fc",
   "metadata": {},
   "source": [
    "<p style=\"margin-left: 4px; font-family: Arial;\">Как видно, проблемы с сердечно-сосудистой системой начинаются в среднем в 55 - 56 лет</p>"
   ]
  },
  {
   "cell_type": "markdown",
   "id": "4a33381d",
   "metadata": {},
   "source": [
    "<p style=\"margin-left: 4px; font-family: Arial;\">Для полного понимания распределения возрастов у здоровых и больных людей построим следующий график:</p>"
   ]
  },
  {
   "cell_type": "code",
   "execution_count": 28,
   "id": "b3f042a4",
   "metadata": {
    "scrolled": true
   },
   "outputs": [
    {
     "data": {
      "text/plain": [
       "Text(0.5, 1.0, 'Age and Illness')"
      ]
     },
     "execution_count": 28,
     "metadata": {},
     "output_type": "execute_result"
    },
    {
     "data": {
      "image/png": "[encoded data removed]",
      "text/plain": [
       "<Figure size 648x648 with 1 Axes>"
      ]
     },
     "metadata": {
      "image/png": {
       "height": 553,
       "width": 553
      }
     },
     "output_type": "display_data"
    }
   ],
   "source": [
    "age_data = pd.melt(frame=df, value_vars=[\"age\"], id_vars=[\"cardio\"])\n",
    "sns.violinplot(\n",
    "    x=\"variable\",\n",
    "    y=\"value\",\n",
    "    hue=\"cardio\",\n",
    "    data=age_data,\n",
    "    split=True,\n",
    "    palette=\"Spectral_r\",\n",
    "    linewidth=1.5\n",
    ").set_title(\"Age and Illness\")"
   ]
  },
  {
   "cell_type": "markdown",
   "id": "dad09af5",
   "metadata": {},
   "source": [
    "<p style=\"margin-left: 4px; font-family: Arial;\">Благодаря графику можно обнаружить следующее: распределение здоровых людей имеет две вершины: 40 лет и 50-52 года. Это может иметь 2 объяснения:</p>\n",
    "<ul style=\"font-family: Arial;\">\n",
    "    <li>Либо датасет располагает относительном малым кол-во данных о людях в возрасте от 40 до примерно 47 лет</li>\n",
    "    <li>Либо причина в том, что люди в данном возрасте ещё относительно молоды и поэтому не ощущают действия тех заболеваний, которые уже получили, из-за чего не идут к врачу и не лечат их. К 50 годам проявления болезни становятся неприятными, из-за чего люди уже вынужденны начат лечение своих заболеваний, из-за чего в этом возрасте повышается кол-во здоровых людей.</li>\n",
    "</ul>\n",
    "<br>\n",
    "<p style=\"margin-left: 4px; font-family: Arial;\">Ну а вообще на этом графике видно, люди с болезнями в большинстве случаев старше здоровых</p>"
   ]
  },
  {
   "cell_type": "markdown",
   "id": "e157dfd9",
   "metadata": {},
   "source": [
    "<h4 style=\"font-family: Arial;\">Из анализа age можно сделать следующие выводы:</h4>\n",
    "<hr>\n",
    "<ul style=\"font-family: Arial;\">\n",
    "    <li>Возраст не является главной причиной возникновения сердечно-сосудистых заболеваний</li>\n",
    "    <li>Однако с возрастом вероятность заболеть становится всё выше и выше, что связанно с повышением общей изношенности организма</li>\n",
    "    <li>Люди до 40 лет довольно редко имеют сердечно-сосудистые заболевания</li>\n",
    "    <li>У большинства людей проблемы с сердчно-сосудистой системой начинаются примерно в 55-56 лет</li>\n",
    "    <li>Людям в возрасте от 40 до 50 лет стоит игнорировать первые проявления болезней</li>\n",
    "</ul>"
   ]
  },
  {
   "cell_type": "markdown",
   "id": "2cf1466b",
   "metadata": {},
   "source": [
    "<h4 style=\"font-family: Arial;\">6. Анализ BMI</h4>\n",
    "<hr>\n",
    "<p style=\"margin-left: 4px; font-family: Arial;\">Углублённого анализа здесь не будет, построим график распределения BMI лишь для получения дополнительной информации:</p>"
   ]
  },
  {
   "cell_type": "code",
   "execution_count": 29,
   "id": "bd6c5660",
   "metadata": {
    "scrolled": true
   },
   "outputs": [
    {
     "data": {
      "text/plain": [
       "Text(0.5, 1.0, 'BMI and Illness')"
      ]
     },
     "execution_count": 29,
     "metadata": {},
     "output_type": "execute_result"
    },
    {
     "data": {
      "image/png": "[encoded data removed]",
      "text/plain": [
       "<Figure size 648x648 with 1 Axes>"
      ]
     },
     "metadata": {
      "image/png": {
       "height": 553,
       "width": 563
      }
     },
     "output_type": "display_data"
    }
   ],
   "source": [
    "sns.boxplot(x=\"cardio\", y=\"BMI\", data=df, palette=\"Spectral_r\", linewidth=2.5).set_title(\"BMI and Illness\")"
   ]
  },
  {
   "cell_type": "markdown",
   "id": "3bf273bd",
   "metadata": {},
   "source": [
    "<p style=\"margin-left: 4px; font-family: Arial;\">Как видно из диаграммы, больные люди в большинстве случаев обладают большим лишним весом (ИМТ), чем здоровые. Большинство здоровых имеют ИМТ в диапазоне от примерно 23.7 до 29, больные - в диапазоне от 24 до 31</p>\n",
    "<p style=\"margin-left: 4px; font-family: Arial;\">Построим countplot, чтобы определить критический уровень ИМТ, после которого большинство людей начинают иметь проблемы с сердечно-сосудистой системой:</p>"
   ]
  },
  {
   "cell_type": "code",
   "execution_count": 30,
   "id": "fae88cb5",
   "metadata": {
    "scrolled": true
   },
   "outputs": [
    {
     "data": {
      "text/plain": [
       "Text(0.5, 1.0, 'BMI and illness')"
      ]
     },
     "execution_count": 30,
     "metadata": {},
     "output_type": "execute_result"
    },
    {
     "data": {
      "image/png": "[encoded data removed]",
      "text/plain": [
       "<Figure size 648x648 with 1 Axes>"
      ]
     },
     "metadata": {
      "image/png": {
       "height": 553,
       "width": 566
      }
     },
     "output_type": "display_data"
    }
   ],
   "source": [
    "df_bmi = df.copy()\n",
    "df_bmi[\"BMI\"] = round(df_bmi[\"BMI\"])\n",
    "sns.countplot(x=\"BMI\", hue=\"cardio\", data=df_bmi, linewidth=2.5).set_title(\"BMI and illness\")"
   ]
  },
  {
   "cell_type": "markdown",
   "id": "e2d8c3dc",
   "metadata": {},
   "source": [
    "<p style=\"margin-left: 4px; font-family: Arial;\">По диаграмме видно, что критическим является уровень ИМТ 28-29, после данного значения кол-во больных людей начинает превышать кол-во здоровых</p>\n",
    "<p style=\"margin-left: 4px; font-family: Arial;\">Узнаем более точно: </p>"
   ]
  },
  {
   "cell_type": "code",
   "execution_count": 31,
   "id": "c9e9b7c7",
   "metadata": {},
   "outputs": [
    {
     "data": {
      "text/plain": [
       "BMI\n",
       "28.0    0.526755\n",
       "29.0    0.537080\n",
       "30.0    0.548924\n",
       "31.0    0.562893\n",
       "32.0    0.606695\n",
       "33.0    0.597260\n",
       "34.0    0.632118\n",
       "35.0    0.649543\n",
       "36.0    0.653882\n",
       "37.0    0.652593\n",
       "38.0    0.667195\n",
       "39.0    0.675835\n",
       "40.0    0.713768\n",
       "Name: cardio, dtype: float64"
      ]
     },
     "execution_count": 31,
     "metadata": {},
     "output_type": "execute_result"
    }
   ],
   "source": [
    "bmi_values = df_bmi.groupby(\"BMI\")[\"cardio\"].mean()\n",
    "bmi_values[bmi_values > 0.5]"
   ]
  },
  {
   "cell_type": "markdown",
   "id": "e037e346",
   "metadata": {},
   "source": [
    "<h4 style=\"font-family: Arial;\">Из анализа BMI можно сделать следующие выводы:</h4>\n",
    "<hr>\n",
    "<ul style=\"font-family: Arial;\">\n",
    "    <li>ИМТ не является главной причиной возникновения проблем с сердечно-сосудистой системой</li>\n",
    "    <li>Важно контролировать уровень ИМТ, чтобы недопустить его повышения до значения 28 и выше</li>\n",
    "</ul>"
   ]
  },
  {
   "cell_type": "markdown",
   "id": "2d4df6de",
   "metadata": {},
   "source": [
    "# Итоги визуализации\n",
    "<hr>\n",
    "<p style=\"margin-left: 4px; font-family: Arial;\">Построив различные диаграммы и проанализировав их, нам удалось выяснить те факторы, которые больше всего влияют на возниакновение сердечно-сосудистых заболеваний</p>\n",
    "<br>\n",
    "<h4 style=\"font-family: Arial;\">Главыные факторы (расположены по степени влияния):</h4>\n",
    "\n",
    "<ul style=\"font-family: Arial;\">\n",
    "    <li>Повышенное систолическое давление (более 130)</li>\n",
    "    <li>Повышенный уровень холестерина в крови</li>\n",
    "    <li>Возраст более 55-56 лет</li>\n",
    "    <li>Лишний вес (ИМТ >= 28)</li>\n",
    "</ul>\n",
    "<br>\n",
    "\n",
    "<h4 style=\"font-family: Arial;\">В меньшей степени причинами болезней сердечно-сосудистой системы являются:</h4>\n",
    "<ul style=\"font-family: Arial;\">\n",
    "    <li>Повышенный уровень глюкозы в крови</li>\n",
    "    <li>Небольшое кол-во физической нагрузок</li>\n",
    "</ul>"
   ]
  },
  {
   "cell_type": "markdown",
   "id": "5b6f3537",
   "metadata": {},
   "source": [
    "<h4 style=\"font-family: Arial;\">Из вышеперечисленного можно составить следующие рекомендации по профилактике возникновения сердечно-сосудистых заболеваний:</h4>\n",
    "<br>\n",
    "<ul style=\"font-family: Arial;\">\n",
    "    <li>Поддерживайте систолическое давление на уровне от 110 до 120.</li>\n",
    "    <li>Потребляйте как можно меньше продуктов, вызывающих повышение холестерина и глюкозы в крови</li>\n",
    "    <li>Не набирайте лишний вес, поддерживайте ИМТ на уровне до 28</li>\n",
    "    <li>Если вы находитесь в возрасте от 40 до 50 лет, то не игнорируйте первые проявления сердечно-сосудистых заболеваний</li>\n",
    "    <li>После 55-56 лет тщательнее следите за своим здоровьем</li>\n",
    "    <li>Регулярно проходите мед.осмотр, поскольку отдельные показатели по типу ИМТ, уровня холестерина и т.д сами по себе не являются показателем наличия заболеваний сердечно-сосудистой системы</li>\n",
    "</ul>"
   ]
  },
  {
   "cell_type": "markdown",
   "id": "1ed8c831",
   "metadata": {},
   "source": [
    "<h4 style=\"font-family: Arial;\">Для подтверждения советом можно взглянуть на данные среднего человека здоровой группы, и среднего человека больной группы.:</h4>\n",
    "<p style=\"margin-left: 4px; font-family: Arial;\">Для правильности разделим их на несколько групп:</p>\n",
    "<ul style=\"font-family: Arial;\">\n",
    "    <li>Мужчины и женщины</li>\n",
    "    <li>Возраст до 55 и после</li>\n",
    "</ul>"
   ]
  },
  {
   "cell_type": "markdown",
   "id": "a4a6a1ab",
   "metadata": {},
   "source": [
    "<p style=\"margin-left: 4px; font-family: Arial;\">Мужчины до 55 лет:</p>"
   ]
  },
  {
   "cell_type": "code",
   "execution_count": 32,
   "id": "9bd09159",
   "metadata": {},
   "outputs": [
    {
     "data": {
      "text/html": [
       "<div>\n",
       "<style scoped>\n",
       "    .dataframe tbody tr th:only-of-type {\n",
       "        vertical-align: middle;\n",
       "    }\n",
       "\n",
       "    .dataframe tbody tr th {\n",
       "        vertical-align: top;\n",
       "    }\n",
       "\n",
       "    .dataframe thead th {\n",
       "        text-align: right;\n",
       "    }\n",
       "</style>\n",
       "<table border=\"1\" class=\"dataframe\">\n",
       "  <thead>\n",
       "    <tr style=\"text-align: right;\">\n",
       "      <th></th>\n",
       "      <th>Здоровые</th>\n",
       "      <th>Больные</th>\n",
       "    </tr>\n",
       "  </thead>\n",
       "  <tbody>\n",
       "    <tr>\n",
       "      <th>age</th>\n",
       "      <td>47.000959</td>\n",
       "      <td>48.313404</td>\n",
       "    </tr>\n",
       "    <tr>\n",
       "      <th>gender</th>\n",
       "      <td>1.000000</td>\n",
       "      <td>1.000000</td>\n",
       "    </tr>\n",
       "    <tr>\n",
       "      <th>height</th>\n",
       "      <td>170.322643</td>\n",
       "      <td>170.636900</td>\n",
       "    </tr>\n",
       "    <tr>\n",
       "      <th>weight</th>\n",
       "      <td>74.971573</td>\n",
       "      <td>79.872487</td>\n",
       "    </tr>\n",
       "    <tr>\n",
       "      <th>ap_hi</th>\n",
       "      <td>120.003152</td>\n",
       "      <td>132.286748</td>\n",
       "    </tr>\n",
       "    <tr>\n",
       "      <th>ap_lo</th>\n",
       "      <td>78.746848</td>\n",
       "      <td>84.395659</td>\n",
       "    </tr>\n",
       "    <tr>\n",
       "      <th>cholesterol</th>\n",
       "      <td>1.152549</td>\n",
       "      <td>1.396611</td>\n",
       "    </tr>\n",
       "    <tr>\n",
       "      <th>gluc</th>\n",
       "      <td>1.140214</td>\n",
       "      <td>1.205636</td>\n",
       "    </tr>\n",
       "    <tr>\n",
       "      <th>smoke</th>\n",
       "      <td>0.241776</td>\n",
       "      <td>0.220487</td>\n",
       "    </tr>\n",
       "    <tr>\n",
       "      <th>alco</th>\n",
       "      <td>0.116365</td>\n",
       "      <td>0.102628</td>\n",
       "    </tr>\n",
       "    <tr>\n",
       "      <th>active</th>\n",
       "      <td>0.820038</td>\n",
       "      <td>0.785415</td>\n",
       "    </tr>\n",
       "    <tr>\n",
       "      <th>cardio</th>\n",
       "      <td>0.000000</td>\n",
       "      <td>1.000000</td>\n",
       "    </tr>\n",
       "    <tr>\n",
       "      <th>BMI</th>\n",
       "      <td>25.801657</td>\n",
       "      <td>27.377833</td>\n",
       "    </tr>\n",
       "  </tbody>\n",
       "</table>\n",
       "</div>"
      ],
      "text/plain": [
       "               Здоровые     Больные\n",
       "age           47.000959   48.313404\n",
       "gender         1.000000    1.000000\n",
       "height       170.322643  170.636900\n",
       "weight        74.971573   79.872487\n",
       "ap_hi        120.003152  132.286748\n",
       "ap_lo         78.746848   84.395659\n",
       "cholesterol    1.152549    1.396611\n",
       "gluc           1.140214    1.205636\n",
       "smoke          0.241776    0.220487\n",
       "alco           0.116365    0.102628\n",
       "active         0.820038    0.785415\n",
       "cardio         0.000000    1.000000\n",
       "BMI           25.801657   27.377833"
      ]
     },
     "execution_count": 32,
     "metadata": {},
     "output_type": "execute_result"
    }
   ],
   "source": [
    "table = pd.concat([df[(df[\"gender\"] == 1) & (df[\"age\"] < 55) & (df[\"cardio\"] == 0)].mean(),\n",
    "                   df[(df[\"gender\"] == 1) & (df[\"age\"] < 55) & (df[\"cardio\"] == 1)].mean()], axis=1)\n",
    "table.columns = [\"Здоровые\", \"Больные\"]\n",
    "\n",
    "table"
   ]
  },
  {
   "cell_type": "markdown",
   "id": "2b9c032d",
   "metadata": {},
   "source": [
    "<p style=\"margin-left: 4px; font-family: Arial;\">Данная таблица подтверждает выявленные нами зависимости наличия болензи от таких факторов, как давление, холестерин и т.д</p>"
   ]
  },
  {
   "cell_type": "markdown",
   "id": "b2e6c6df",
   "metadata": {},
   "source": [
    "<p style=\"margin-left: 4px; font-family: Arial;\">Построим подобные таблицы для каждой из групп:</p>"
   ]
  },
  {
   "cell_type": "markdown",
   "id": "d8fced75",
   "metadata": {},
   "source": [
    "<p style=\"margin-left: 4px; font-family: Arial;\">Мужчины после 55 лет:</p>"
   ]
  },
  {
   "cell_type": "code",
   "execution_count": 33,
   "id": "0f86f984",
   "metadata": {
    "scrolled": true
   },
   "outputs": [
    {
     "data": {
      "text/html": [
       "<div>\n",
       "<style scoped>\n",
       "    .dataframe tbody tr th:only-of-type {\n",
       "        vertical-align: middle;\n",
       "    }\n",
       "\n",
       "    .dataframe tbody tr th {\n",
       "        vertical-align: top;\n",
       "    }\n",
       "\n",
       "    .dataframe thead th {\n",
       "        text-align: right;\n",
       "    }\n",
       "</style>\n",
       "<table border=\"1\" class=\"dataframe\">\n",
       "  <thead>\n",
       "    <tr style=\"text-align: right;\">\n",
       "      <th></th>\n",
       "      <th>Здоровые</th>\n",
       "      <th>Больные</th>\n",
       "    </tr>\n",
       "  </thead>\n",
       "  <tbody>\n",
       "    <tr>\n",
       "      <th>age</th>\n",
       "      <td>58.766125</td>\n",
       "      <td>59.328496</td>\n",
       "    </tr>\n",
       "    <tr>\n",
       "      <th>gender</th>\n",
       "      <td>1.000000</td>\n",
       "      <td>1.000000</td>\n",
       "    </tr>\n",
       "    <tr>\n",
       "      <th>height</th>\n",
       "      <td>169.139665</td>\n",
       "      <td>169.555398</td>\n",
       "    </tr>\n",
       "    <tr>\n",
       "      <th>weight</th>\n",
       "      <td>75.261249</td>\n",
       "      <td>78.739717</td>\n",
       "    </tr>\n",
       "    <tr>\n",
       "      <th>ap_hi</th>\n",
       "      <td>123.398172</td>\n",
       "      <td>133.124071</td>\n",
       "    </tr>\n",
       "    <tr>\n",
       "      <th>ap_lo</th>\n",
       "      <td>80.198324</td>\n",
       "      <td>84.297876</td>\n",
       "    </tr>\n",
       "    <tr>\n",
       "      <th>cholesterol</th>\n",
       "      <td>1.263840</td>\n",
       "      <td>1.511327</td>\n",
       "    </tr>\n",
       "    <tr>\n",
       "      <th>gluc</th>\n",
       "      <td>1.220163</td>\n",
       "      <td>1.275575</td>\n",
       "    </tr>\n",
       "    <tr>\n",
       "      <th>smoke</th>\n",
       "      <td>0.205688</td>\n",
       "      <td>0.182478</td>\n",
       "    </tr>\n",
       "    <tr>\n",
       "      <th>alco</th>\n",
       "      <td>0.099035</td>\n",
       "      <td>0.090088</td>\n",
       "    </tr>\n",
       "    <tr>\n",
       "      <th>active</th>\n",
       "      <td>0.834688</td>\n",
       "      <td>0.786549</td>\n",
       "    </tr>\n",
       "    <tr>\n",
       "      <th>cardio</th>\n",
       "      <td>0.000000</td>\n",
       "      <td>1.000000</td>\n",
       "    </tr>\n",
       "    <tr>\n",
       "      <th>BMI</th>\n",
       "      <td>26.264674</td>\n",
       "      <td>27.347122</td>\n",
       "    </tr>\n",
       "  </tbody>\n",
       "</table>\n",
       "</div>"
      ],
      "text/plain": [
       "               Здоровые     Больные\n",
       "age           58.766125   59.328496\n",
       "gender         1.000000    1.000000\n",
       "height       169.139665  169.555398\n",
       "weight        75.261249   78.739717\n",
       "ap_hi        123.398172  133.124071\n",
       "ap_lo         80.198324   84.297876\n",
       "cholesterol    1.263840    1.511327\n",
       "gluc           1.220163    1.275575\n",
       "smoke          0.205688    0.182478\n",
       "alco           0.099035    0.090088\n",
       "active         0.834688    0.786549\n",
       "cardio         0.000000    1.000000\n",
       "BMI           26.264674   27.347122"
      ]
     },
     "execution_count": 33,
     "metadata": {},
     "output_type": "execute_result"
    }
   ],
   "source": [
    "table = pd.concat([df[(df[\"gender\"] == 1) & (df[\"age\"] >= 55) & (df[\"cardio\"] == 0)].mean(), \n",
    "                   df[(df[\"gender\"] == 1) & (df[\"age\"] >= 55) & (df[\"cardio\"] == 1)].mean()], axis=1)\n",
    "table.columns = [\"Здоровые\", \"Больные\"]\n",
    "\n",
    "table"
   ]
  },
  {
   "cell_type": "markdown",
   "id": "2a94f66d",
   "metadata": {},
   "source": [
    "<p style=\"margin-left: 4px; font-family: Arial;\">Женщины до 55 лет:</p>"
   ]
  },
  {
   "cell_type": "code",
   "execution_count": 34,
   "id": "18cdb815",
   "metadata": {
    "scrolled": true
   },
   "outputs": [
    {
     "data": {
      "text/html": [
       "<div>\n",
       "<style scoped>\n",
       "    .dataframe tbody tr th:only-of-type {\n",
       "        vertical-align: middle;\n",
       "    }\n",
       "\n",
       "    .dataframe tbody tr th {\n",
       "        vertical-align: top;\n",
       "    }\n",
       "\n",
       "    .dataframe thead th {\n",
       "        text-align: right;\n",
       "    }\n",
       "</style>\n",
       "<table border=\"1\" class=\"dataframe\">\n",
       "  <thead>\n",
       "    <tr style=\"text-align: right;\">\n",
       "      <th></th>\n",
       "      <th>Здоровые</th>\n",
       "      <th>Больные</th>\n",
       "    </tr>\n",
       "  </thead>\n",
       "  <tbody>\n",
       "    <tr>\n",
       "      <th>age</th>\n",
       "      <td>47.534367</td>\n",
       "      <td>48.855725</td>\n",
       "    </tr>\n",
       "    <tr>\n",
       "      <th>gender</th>\n",
       "      <td>0.000000</td>\n",
       "      <td>0.000000</td>\n",
       "    </tr>\n",
       "    <tr>\n",
       "      <th>height</th>\n",
       "      <td>162.111710</td>\n",
       "      <td>162.034280</td>\n",
       "    </tr>\n",
       "    <tr>\n",
       "      <th>weight</th>\n",
       "      <td>69.557188</td>\n",
       "      <td>73.586954</td>\n",
       "    </tr>\n",
       "    <tr>\n",
       "      <th>ap_hi</th>\n",
       "      <td>117.928497</td>\n",
       "      <td>130.978994</td>\n",
       "    </tr>\n",
       "    <tr>\n",
       "      <th>ap_lo</th>\n",
       "      <td>77.284292</td>\n",
       "      <td>83.633195</td>\n",
       "    </tr>\n",
       "    <tr>\n",
       "      <th>cholesterol</th>\n",
       "      <td>1.174978</td>\n",
       "      <td>1.449100</td>\n",
       "    </tr>\n",
       "    <tr>\n",
       "      <th>gluc</th>\n",
       "      <td>1.141884</td>\n",
       "      <td>1.238804</td>\n",
       "    </tr>\n",
       "    <tr>\n",
       "      <th>smoke</th>\n",
       "      <td>0.019093</td>\n",
       "      <td>0.018467</td>\n",
       "    </tr>\n",
       "    <tr>\n",
       "      <th>alco</th>\n",
       "      <td>0.026355</td>\n",
       "      <td>0.026777</td>\n",
       "    </tr>\n",
       "    <tr>\n",
       "      <th>active</th>\n",
       "      <td>0.813792</td>\n",
       "      <td>0.791667</td>\n",
       "    </tr>\n",
       "    <tr>\n",
       "      <th>cardio</th>\n",
       "      <td>0.000000</td>\n",
       "      <td>1.000000</td>\n",
       "    </tr>\n",
       "    <tr>\n",
       "      <th>BMI</th>\n",
       "      <td>26.491289</td>\n",
       "      <td>28.074002</td>\n",
       "    </tr>\n",
       "  </tbody>\n",
       "</table>\n",
       "</div>"
      ],
      "text/plain": [
       "               Здоровые     Больные\n",
       "age           47.534367   48.855725\n",
       "gender         0.000000    0.000000\n",
       "height       162.111710  162.034280\n",
       "weight        69.557188   73.586954\n",
       "ap_hi        117.928497  130.978994\n",
       "ap_lo         77.284292   83.633195\n",
       "cholesterol    1.174978    1.449100\n",
       "gluc           1.141884    1.238804\n",
       "smoke          0.019093    0.018467\n",
       "alco           0.026355    0.026777\n",
       "active         0.813792    0.791667\n",
       "cardio         0.000000    1.000000\n",
       "BMI           26.491289   28.074002"
      ]
     },
     "execution_count": 34,
     "metadata": {},
     "output_type": "execute_result"
    }
   ],
   "source": [
    "table = pd.concat([df[(df[\"gender\"] == 0) & (df[\"age\"] < 55) & (df[\"cardio\"] == 0)].mean(), \n",
    "                   df[(df[\"gender\"] == 0) & (df[\"age\"] < 55) & (df[\"cardio\"] == 1)].mean()], axis=1)\n",
    "table.columns = [\"Здоровые\", \"Больные\"]\n",
    "\n",
    "table"
   ]
  },
  {
   "cell_type": "markdown",
   "id": "019c7371",
   "metadata": {},
   "source": [
    "<p style=\"margin-left: 4px; font-family: Arial;\">Женщины после 55 лет:</p>"
   ]
  },
  {
   "cell_type": "code",
   "execution_count": 35,
   "id": "99790f7c",
   "metadata": {
    "scrolled": true
   },
   "outputs": [
    {
     "data": {
      "text/html": [
       "<div>\n",
       "<style scoped>\n",
       "    .dataframe tbody tr th:only-of-type {\n",
       "        vertical-align: middle;\n",
       "    }\n",
       "\n",
       "    .dataframe tbody tr th {\n",
       "        vertical-align: top;\n",
       "    }\n",
       "\n",
       "    .dataframe thead th {\n",
       "        text-align: right;\n",
       "    }\n",
       "</style>\n",
       "<table border=\"1\" class=\"dataframe\">\n",
       "  <thead>\n",
       "    <tr style=\"text-align: right;\">\n",
       "      <th></th>\n",
       "      <th>Здоровые</th>\n",
       "      <th>Больные</th>\n",
       "    </tr>\n",
       "  </thead>\n",
       "  <tbody>\n",
       "    <tr>\n",
       "      <th>age</th>\n",
       "      <td>58.376014</td>\n",
       "      <td>59.200343</td>\n",
       "    </tr>\n",
       "    <tr>\n",
       "      <th>gender</th>\n",
       "      <td>0.000000</td>\n",
       "      <td>0.000000</td>\n",
       "    </tr>\n",
       "    <tr>\n",
       "      <th>height</th>\n",
       "      <td>161.402421</td>\n",
       "      <td>160.897299</td>\n",
       "    </tr>\n",
       "    <tr>\n",
       "      <th>weight</th>\n",
       "      <td>70.908685</td>\n",
       "      <td>73.574272</td>\n",
       "    </tr>\n",
       "    <tr>\n",
       "      <th>ap_hi</th>\n",
       "      <td>122.192133</td>\n",
       "      <td>131.716828</td>\n",
       "    </tr>\n",
       "    <tr>\n",
       "      <th>ap_lo</th>\n",
       "      <td>79.460047</td>\n",
       "      <td>83.396531</td>\n",
       "    </tr>\n",
       "    <tr>\n",
       "      <th>cholesterol</th>\n",
       "      <td>1.306423</td>\n",
       "      <td>1.592087</td>\n",
       "    </tr>\n",
       "    <tr>\n",
       "      <th>gluc</th>\n",
       "      <td>1.234768</td>\n",
       "      <td>1.322193</td>\n",
       "    </tr>\n",
       "    <tr>\n",
       "      <th>smoke</th>\n",
       "      <td>0.014716</td>\n",
       "      <td>0.014272</td>\n",
       "    </tr>\n",
       "    <tr>\n",
       "      <th>alco</th>\n",
       "      <td>0.022830</td>\n",
       "      <td>0.021859</td>\n",
       "    </tr>\n",
       "    <tr>\n",
       "      <th>active</th>\n",
       "      <td>0.813918</td>\n",
       "      <td>0.787824</td>\n",
       "    </tr>\n",
       "    <tr>\n",
       "      <th>cardio</th>\n",
       "      <td>0.000000</td>\n",
       "      <td>1.000000</td>\n",
       "    </tr>\n",
       "    <tr>\n",
       "      <th>BMI</th>\n",
       "      <td>27.261206</td>\n",
       "      <td>28.472470</td>\n",
       "    </tr>\n",
       "  </tbody>\n",
       "</table>\n",
       "</div>"
      ],
      "text/plain": [
       "               Здоровые     Больные\n",
       "age           58.376014   59.200343\n",
       "gender         0.000000    0.000000\n",
       "height       161.402421  160.897299\n",
       "weight        70.908685   73.574272\n",
       "ap_hi        122.192133  131.716828\n",
       "ap_lo         79.460047   83.396531\n",
       "cholesterol    1.306423    1.592087\n",
       "gluc           1.234768    1.322193\n",
       "smoke          0.014716    0.014272\n",
       "alco           0.022830    0.021859\n",
       "active         0.813918    0.787824\n",
       "cardio         0.000000    1.000000\n",
       "BMI           27.261206   28.472470"
      ]
     },
     "execution_count": 35,
     "metadata": {},
     "output_type": "execute_result"
    }
   ],
   "source": [
    "table = pd.concat([df[(df[\"gender\"] == 0) & (df[\"age\"] >= 55) & (df[\"cardio\"] == 0)].mean(), \n",
    "                   df[(df[\"gender\"] == 0) & (df[\"age\"] >= 55) & (df[\"cardio\"] == 1)].mean()], axis=1)\n",
    "table.columns = [\"Здоровые\", \"Больные\"]\n",
    "\n",
    "table"
   ]
  },
  {
   "cell_type": "markdown",
   "id": "b94e5df6",
   "metadata": {},
   "source": [
    "<p style=\"margin-left: 4px; font-family: Arial;\">Все вышепостроенные таблицы подтверждают выведенне закономерности о возникновении у человека сердечно-сосудистых заболеваний. Кроме того, на примере среднего представителя каждой из категории видно, что созданные мной исходя из анализа советы действительно работают - люди, которые плюс-минус им следуют, имеют в среднем меньший шанс получения болезней сердечно-сосудистой системы </p>"
   ]
  },
  {
   "cell_type": "markdown",
   "id": "ba4b631c",
   "metadata": {},
   "source": [
    "# Построение таблицы и обучение модели\n",
    "<hr>\n",
    "<p style=\"margin-left: 4px; font-family: Arial;\">Аналитический этап закончен. Теперь приступим к практике: необходимо построить таблицу, которая показывала вероятность наличия заболевания по данным пациента, а также обучить модель, которая делала бы то же самое, что и таблица, т.е предсказывала бы наличие сердечно-сосудистого заболевания по входным данным</p>\n",
    "<br>\n",
    "<h5 style=\"font-family: Arial;\">1. Построим таблицу: </h5>"
   ]
  },
  {
   "cell_type": "code",
   "execution_count": 36,
   "id": "7ddfeb5d",
   "metadata": {},
   "outputs": [],
   "source": [
    "def create_table(df, gender):\n",
    "    \"\"\"\n",
    "    df - датасет, по которому будет создана таблица\n",
    "    gender - пол, для которого будет создана таблица\n",
    "    \n",
    "    \"\"\"\n",
    "    df = df[df[\"gender\"] == gender]\n",
    "    \n",
    "    # делим на значения категории: 0 - мало, 1 - много, по середине будут взяты значения из таблицы\n",
    "    df[\"age\"] = df[\"age\"].apply(lambda x: 0 if x < 50 else (x if x >= 50 and x <= 60 else 1))\n",
    "    df[\"ap_hi\"] = df[\"ap_hi\"].apply(lambda x: 0 if x < 110 else (x if x >= 115 and x <= 135 else 1))\n",
    "    \n",
    "    # создаём индексы для таблицы\n",
    "    age_dict, ap_dict = create_indexes_names(df, \"age\", (\"Младше 50\", \"Старше 60\")), create_indexes_names(df, \"ap_hi\", (\"Менее 100\", \"Более 148\"))\n",
    "    # делим на категории, тех, кто не был классифицирован как 0 или 1 двумя строками выше\n",
    "    df[\"age\"], df[\"ap_hi\"] = classificate(df, \"age\"), classificate(df, \"ap_hi\")\n",
    "    \n",
    "    # создаём сводную таблицу и даём имена её столбцам\n",
    "    df_table = pd.pivot_table(index=\"age\", columns=\"ap_hi\", values=\"cardio\", data=df)\n",
    "    df_table.columns, df_table.index= [ap_dict[i] for i in df_table.columns.tolist()], [age_dict[i] for i in df_table.columns.tolist()]\n",
    "    return df_table\n",
    "\n",
    "\n",
    "def create_indexes_names(df, column, names):\n",
    "    \"\"\"\n",
    "    Здесь каждая категория, получившаяся при разделении с помощью qcut получает своё имя.\n",
    "    \n",
    "    df - датасет, по которому будет создана таблица\n",
    "    column - столбец, по значениям которого нужно разделить датасет\n",
    "    names - уникальные индексы, которые будут добавлены для наглядности\n",
    "    \n",
    "    Например: если до этого класс столбца был 1, то теперь он будет, например, (10.0, 20.0]\n",
    "    \"\"\"\n",
    "    \n",
    "    a = pd.cut(df[df[column] > 2][column], bins=5).unique().tolist()\n",
    "    # i+3 поскольку категории 0 и 1 уже сущевтуют\n",
    "    age_dict = {i+3: (val.left, val.right) for i, val in enumerate(a)}\n",
    "    # даём именные названия по типу \"менее 60\" или \"более 60\" для красоты\n",
    "    age_dict[0], age_dict[1] = names\n",
    "    \n",
    "    return age_dict\n",
    "\n",
    "\n",
    "def classificate(df, column):\n",
    "    \"\"\"\n",
    "    Здесь классифицируются значения, которые не были классифицированы как 0 или 1, т.е находятся между\n",
    "    необходимыми минимальным и максимальным значением\n",
    "    \n",
    "    df - датасет, по которому будет создана таблица\n",
    "    column - столбец, по значениям которого нужно разделить датасет\n",
    "    \n",
    "    Например: если cut создал интервал (50.0, 60.0) и присвоил ему класс 2, то все значения в df[column],\n",
    "    принадлежащие данному диапазону, будут заменены на 2\n",
    "    \"\"\"\n",
    "    \n",
    "    # разделяем неклассифицированные значения на 5 категории\n",
    "    a = pd.DataFrame(pd.cut(df[df[column] > 2][column], bins=5, labels=range(3, 8)))\n",
    "    b = pd.DataFrame(df[df[column] <= 2][column])\n",
    "\n",
    "    return pd.concat([a, b]).sort_index()"
   ]
  },
  {
   "cell_type": "markdown",
   "id": "9aaaafed",
   "metadata": {},
   "source": [
    "<em style=\"margin-left: 4px; font-family: Arial;\">Получилось немного говнокодно, но в целом более-менее нормально </em>"
   ]
  },
  {
   "cell_type": "markdown",
   "id": "8c2117a9",
   "metadata": {},
   "source": [
    "<p style=\"margin-left: 4px; font-family: Arial;\">Таблица для мужчин: </p>"
   ]
  },
  {
   "cell_type": "code",
   "execution_count": 37,
   "id": "9b9f69ab",
   "metadata": {
    "scrolled": true
   },
   "outputs": [
    {
     "data": {
      "text/html": [
       "<div>\n",
       "<style scoped>\n",
       "    .dataframe tbody tr th:only-of-type {\n",
       "        vertical-align: middle;\n",
       "    }\n",
       "\n",
       "    .dataframe tbody tr th {\n",
       "        vertical-align: top;\n",
       "    }\n",
       "\n",
       "    .dataframe thead th {\n",
       "        text-align: right;\n",
       "    }\n",
       "</style>\n",
       "<table border=\"1\" class=\"dataframe\">\n",
       "  <thead>\n",
       "    <tr style=\"text-align: right;\">\n",
       "      <th></th>\n",
       "      <th>Менее 100</th>\n",
       "      <th>Более 148</th>\n",
       "      <th>(127.0, 131.0)</th>\n",
       "      <th>(119.0, 123.0)</th>\n",
       "      <th>(123.0, 127.0)</th>\n",
       "      <th>(131.0, 135.0)</th>\n",
       "      <th>(114.98, 119.0)</th>\n",
       "    </tr>\n",
       "  </thead>\n",
       "  <tbody>\n",
       "    <tr>\n",
       "      <th>Младше 50</th>\n",
       "      <td>17.12</td>\n",
       "      <td>56.61</td>\n",
       "      <td>14.71</td>\n",
       "      <td>23.92</td>\n",
       "      <td>24.00</td>\n",
       "      <td>52.59</td>\n",
       "      <td>56.52</td>\n",
       "    </tr>\n",
       "    <tr>\n",
       "      <th>Старше 60</th>\n",
       "      <td>49.02</td>\n",
       "      <td>76.45</td>\n",
       "      <td>0.00</td>\n",
       "      <td>53.31</td>\n",
       "      <td>44.00</td>\n",
       "      <td>65.65</td>\n",
       "      <td>76.47</td>\n",
       "    </tr>\n",
       "    <tr>\n",
       "      <th>(49.99, 52.0)</th>\n",
       "      <td>26.03</td>\n",
       "      <td>65.71</td>\n",
       "      <td>7.69</td>\n",
       "      <td>29.87</td>\n",
       "      <td>17.86</td>\n",
       "      <td>53.27</td>\n",
       "      <td>55.56</td>\n",
       "    </tr>\n",
       "    <tr>\n",
       "      <th>(58.0, 60.0)</th>\n",
       "      <td>22.50</td>\n",
       "      <td>68.59</td>\n",
       "      <td>50.00</td>\n",
       "      <td>33.37</td>\n",
       "      <td>15.38</td>\n",
       "      <td>51.22</td>\n",
       "      <td>66.67</td>\n",
       "    </tr>\n",
       "    <tr>\n",
       "      <th>(52.0, 54.0)</th>\n",
       "      <td>20.83</td>\n",
       "      <td>73.74</td>\n",
       "      <td>22.22</td>\n",
       "      <td>37.55</td>\n",
       "      <td>36.00</td>\n",
       "      <td>53.73</td>\n",
       "      <td>37.50</td>\n",
       "    </tr>\n",
       "    <tr>\n",
       "      <th>(56.0, 58.0)</th>\n",
       "      <td>35.14</td>\n",
       "      <td>70.50</td>\n",
       "      <td>33.33</td>\n",
       "      <td>42.83</td>\n",
       "      <td>31.25</td>\n",
       "      <td>57.06</td>\n",
       "      <td>36.36</td>\n",
       "    </tr>\n",
       "    <tr>\n",
       "      <th>(54.0, 56.0)</th>\n",
       "      <td>16.13</td>\n",
       "      <td>74.66</td>\n",
       "      <td>25.00</td>\n",
       "      <td>42.84</td>\n",
       "      <td>40.00</td>\n",
       "      <td>60.19</td>\n",
       "      <td>60.00</td>\n",
       "    </tr>\n",
       "  </tbody>\n",
       "</table>\n",
       "</div>"
      ],
      "text/plain": [
       "               Менее 100  Более 148  (127.0, 131.0)  (119.0, 123.0)  \\\n",
       "Младше 50          17.12      56.61           14.71           23.92   \n",
       "Старше 60          49.02      76.45            0.00           53.31   \n",
       "(49.99, 52.0)      26.03      65.71            7.69           29.87   \n",
       "(58.0, 60.0)       22.50      68.59           50.00           33.37   \n",
       "(52.0, 54.0)       20.83      73.74           22.22           37.55   \n",
       "(56.0, 58.0)       35.14      70.50           33.33           42.83   \n",
       "(54.0, 56.0)       16.13      74.66           25.00           42.84   \n",
       "\n",
       "               (123.0, 127.0)  (131.0, 135.0)  (114.98, 119.0)  \n",
       "Младше 50               24.00           52.59            56.52  \n",
       "Старше 60               44.00           65.65            76.47  \n",
       "(49.99, 52.0)           17.86           53.27            55.56  \n",
       "(58.0, 60.0)            15.38           51.22            66.67  \n",
       "(52.0, 54.0)            36.00           53.73            37.50  \n",
       "(56.0, 58.0)            31.25           57.06            36.36  \n",
       "(54.0, 56.0)            40.00           60.19            60.00  "
      ]
     },
     "execution_count": 37,
     "metadata": {},
     "output_type": "execute_result"
    }
   ],
   "source": [
    "# Значения будут показываться как вероятности, поэтому для наглядности можно умножить их на 100 и представить в виде процетов\n",
    "df_gov = round(create_table(df, 1) * 100, 2)\n",
    "df_gov"
   ]
  },
  {
   "cell_type": "markdown",
   "id": "973fd01b",
   "metadata": {},
   "source": [
    "<p style=\"margin-left: 4px; font-family: Arial;\">Таблица для женщин: </p>"
   ]
  },
  {
   "cell_type": "code",
   "execution_count": 38,
   "id": "f6e9820b",
   "metadata": {},
   "outputs": [
    {
     "data": {
      "text/html": [
       "<div>\n",
       "<style scoped>\n",
       "    .dataframe tbody tr th:only-of-type {\n",
       "        vertical-align: middle;\n",
       "    }\n",
       "\n",
       "    .dataframe tbody tr th {\n",
       "        vertical-align: top;\n",
       "    }\n",
       "\n",
       "    .dataframe thead th {\n",
       "        text-align: right;\n",
       "    }\n",
       "</style>\n",
       "<table border=\"1\" class=\"dataframe\">\n",
       "  <thead>\n",
       "    <tr style=\"text-align: right;\">\n",
       "      <th></th>\n",
       "      <th>Менее 100</th>\n",
       "      <th>Более 148</th>\n",
       "      <th>(127.0, 131.0)</th>\n",
       "      <th>(119.0, 123.0)</th>\n",
       "      <th>(131.0, 135.0)</th>\n",
       "      <th>(123.0, 127.0)</th>\n",
       "      <th>(114.98, 119.0)</th>\n",
       "    </tr>\n",
       "  </thead>\n",
       "  <tbody>\n",
       "    <tr>\n",
       "      <th>Младше 50</th>\n",
       "      <td>12.06</td>\n",
       "      <td>46.28</td>\n",
       "      <td>24.64</td>\n",
       "      <td>23.89</td>\n",
       "      <td>34.38</td>\n",
       "      <td>57.24</td>\n",
       "      <td>70.97</td>\n",
       "    </tr>\n",
       "    <tr>\n",
       "      <th>Старше 60</th>\n",
       "      <td>57.27</td>\n",
       "      <td>80.07</td>\n",
       "      <td>50.00</td>\n",
       "      <td>61.26</td>\n",
       "      <td>69.77</td>\n",
       "      <td>71.55</td>\n",
       "      <td>88.46</td>\n",
       "    </tr>\n",
       "    <tr>\n",
       "      <th>(54.0, 56.0)</th>\n",
       "      <td>16.30</td>\n",
       "      <td>58.44</td>\n",
       "      <td>4.35</td>\n",
       "      <td>28.78</td>\n",
       "      <td>34.69</td>\n",
       "      <td>53.24</td>\n",
       "      <td>55.56</td>\n",
       "    </tr>\n",
       "    <tr>\n",
       "      <th>(49.99, 52.0)</th>\n",
       "      <td>24.69</td>\n",
       "      <td>62.19</td>\n",
       "      <td>0.00</td>\n",
       "      <td>35.26</td>\n",
       "      <td>26.32</td>\n",
       "      <td>60.00</td>\n",
       "      <td>46.67</td>\n",
       "    </tr>\n",
       "    <tr>\n",
       "      <th>(58.0, 60.0)</th>\n",
       "      <td>28.66</td>\n",
       "      <td>66.13</td>\n",
       "      <td>36.84</td>\n",
       "      <td>41.60</td>\n",
       "      <td>42.86</td>\n",
       "      <td>60.39</td>\n",
       "      <td>78.95</td>\n",
       "    </tr>\n",
       "    <tr>\n",
       "      <th>(52.0, 54.0)</th>\n",
       "      <td>28.81</td>\n",
       "      <td>68.06</td>\n",
       "      <td>33.33</td>\n",
       "      <td>42.85</td>\n",
       "      <td>48.48</td>\n",
       "      <td>62.77</td>\n",
       "      <td>87.50</td>\n",
       "    </tr>\n",
       "    <tr>\n",
       "      <th>(56.0, 58.0)</th>\n",
       "      <td>27.20</td>\n",
       "      <td>71.38</td>\n",
       "      <td>30.00</td>\n",
       "      <td>48.01</td>\n",
       "      <td>36.00</td>\n",
       "      <td>64.71</td>\n",
       "      <td>66.67</td>\n",
       "    </tr>\n",
       "  </tbody>\n",
       "</table>\n",
       "</div>"
      ],
      "text/plain": [
       "               Менее 100  Более 148  (127.0, 131.0)  (119.0, 123.0)  \\\n",
       "Младше 50          12.06      46.28           24.64           23.89   \n",
       "Старше 60          57.27      80.07           50.00           61.26   \n",
       "(54.0, 56.0)       16.30      58.44            4.35           28.78   \n",
       "(49.99, 52.0)      24.69      62.19            0.00           35.26   \n",
       "(58.0, 60.0)       28.66      66.13           36.84           41.60   \n",
       "(52.0, 54.0)       28.81      68.06           33.33           42.85   \n",
       "(56.0, 58.0)       27.20      71.38           30.00           48.01   \n",
       "\n",
       "               (131.0, 135.0)  (123.0, 127.0)  (114.98, 119.0)  \n",
       "Младше 50               34.38           57.24            70.97  \n",
       "Старше 60               69.77           71.55            88.46  \n",
       "(54.0, 56.0)            34.69           53.24            55.56  \n",
       "(49.99, 52.0)           26.32           60.00            46.67  \n",
       "(58.0, 60.0)            42.86           60.39            78.95  \n",
       "(52.0, 54.0)            48.48           62.77            87.50  \n",
       "(56.0, 58.0)            36.00           64.71            66.67  "
      ]
     },
     "execution_count": 38,
     "metadata": {},
     "output_type": "execute_result"
    }
   ],
   "source": [
    "df_gov = round(create_table(df, 0) * 100, 2)\n",
    "df_gov"
   ]
  },
  {
   "cell_type": "markdown",
   "id": "684b3ada",
   "metadata": {},
   "source": [
    "<h4 style=\"font-family: Arial;\">Выводы по таблицам: </h4>\n",
    "<hr>\n",
    "\n",
    "<ul style=\"font-family: Arial;\">\n",
    "    <li>Вышесозданные таблицы так же, как и другие способы визуализации данных, подтверждают замеченные закономерности: cardio зависит от возраста и давления. Конечно, на некоторых значениях age и ap_hi в таблице отчётливо заметны некоторые расхождения, однако это связано с малым кол-вом данных для определённых значений этих признаков, а не с неправильностю нашего анализа.</li>\n",
    "    <li>Данную таблицу можно использовать лишь для примерного понимания величины вероятности, с которой пациент имеет сердечно-сосудистые заболевания, а не для окончательного диагноза, поскольку данных немного, из-за чего точность вероятности не так велика</li>\n",
    "</ul>"
   ]
  },
  {
   "cell_type": "markdown",
   "id": "d7b8810b",
   "metadata": {},
   "source": [
    "<h4 style=\"font-family: Arial;\">2. Обучение модели </h4>\n",
    "<hr>\n",
    "<p style=\"margin-left: 4px; font-family: Arial;\">Окончательный этап проекта - построение модели машинного обучения, которая бы по входным данным предсказывала вероятность наличия сердечно-сосудистого заболевания у пациента.</p>\n",
    "<br>\n",
    "<h4 style=\"font-family: Arial;\">Этапы создания модели: </h4>\n",
    "<ul style=\"font-family: Arial;\">\n",
    "    <li>Создание обучающей и тестовой выборок</li>\n",
    "    <li>Создание и обучение модели</li>\n",
    "    <li>Оценка точности модели</li>\n",
    "    <li>Проверка модели</li>\n",
    "</ul>"
   ]
  },
  {
   "cell_type": "code",
   "execution_count": 39,
   "id": "6e7a4645",
   "metadata": {},
   "outputs": [],
   "source": [
    "from sklearn.model_selection import train_test_split\n",
    "from sklearn.preprocessing import StandardScaler\n",
    "from sklearn.linear_model import LogisticRegression"
   ]
  },
  {
   "cell_type": "code",
   "execution_count": 40,
   "id": "de3d88bd",
   "metadata": {},
   "outputs": [],
   "source": [
    "# Скопируем датасет, чтобы не бояться менять данные\n",
    "df_test = df.copy()"
   ]
  },
  {
   "cell_type": "code",
   "execution_count": 41,
   "id": "af239522",
   "metadata": {
    "scrolled": true
   },
   "outputs": [
    {
     "data": {
      "text/html": [
       "<div>\n",
       "<style scoped>\n",
       "    .dataframe tbody tr th:only-of-type {\n",
       "        vertical-align: middle;\n",
       "    }\n",
       "\n",
       "    .dataframe tbody tr th {\n",
       "        vertical-align: top;\n",
       "    }\n",
       "\n",
       "    .dataframe thead th {\n",
       "        text-align: right;\n",
       "    }\n",
       "</style>\n",
       "<table border=\"1\" class=\"dataframe\">\n",
       "  <thead>\n",
       "    <tr style=\"text-align: right;\">\n",
       "      <th></th>\n",
       "      <th>age</th>\n",
       "      <th>gender</th>\n",
       "      <th>height</th>\n",
       "      <th>weight</th>\n",
       "      <th>ap_hi</th>\n",
       "      <th>ap_lo</th>\n",
       "      <th>cholesterol</th>\n",
       "      <th>gluc</th>\n",
       "      <th>smoke</th>\n",
       "      <th>alco</th>\n",
       "      <th>active</th>\n",
       "      <th>cardio</th>\n",
       "      <th>BMI</th>\n",
       "    </tr>\n",
       "  </thead>\n",
       "  <tbody>\n",
       "    <tr>\n",
       "      <th>0</th>\n",
       "      <td>50</td>\n",
       "      <td>1</td>\n",
       "      <td>168</td>\n",
       "      <td>62.0</td>\n",
       "      <td>110</td>\n",
       "      <td>80</td>\n",
       "      <td>1</td>\n",
       "      <td>1</td>\n",
       "      <td>0</td>\n",
       "      <td>0</td>\n",
       "      <td>1</td>\n",
       "      <td>0</td>\n",
       "      <td>21.967120</td>\n",
       "    </tr>\n",
       "    <tr>\n",
       "      <th>1</th>\n",
       "      <td>55</td>\n",
       "      <td>0</td>\n",
       "      <td>156</td>\n",
       "      <td>85.0</td>\n",
       "      <td>140</td>\n",
       "      <td>90</td>\n",
       "      <td>3</td>\n",
       "      <td>1</td>\n",
       "      <td>0</td>\n",
       "      <td>0</td>\n",
       "      <td>1</td>\n",
       "      <td>1</td>\n",
       "      <td>34.927679</td>\n",
       "    </tr>\n",
       "    <tr>\n",
       "      <th>2</th>\n",
       "      <td>51</td>\n",
       "      <td>0</td>\n",
       "      <td>165</td>\n",
       "      <td>64.0</td>\n",
       "      <td>130</td>\n",
       "      <td>70</td>\n",
       "      <td>3</td>\n",
       "      <td>1</td>\n",
       "      <td>0</td>\n",
       "      <td>0</td>\n",
       "      <td>0</td>\n",
       "      <td>1</td>\n",
       "      <td>23.507805</td>\n",
       "    </tr>\n",
       "    <tr>\n",
       "      <th>3</th>\n",
       "      <td>48</td>\n",
       "      <td>1</td>\n",
       "      <td>169</td>\n",
       "      <td>82.0</td>\n",
       "      <td>150</td>\n",
       "      <td>100</td>\n",
       "      <td>1</td>\n",
       "      <td>1</td>\n",
       "      <td>0</td>\n",
       "      <td>0</td>\n",
       "      <td>1</td>\n",
       "      <td>1</td>\n",
       "      <td>28.710479</td>\n",
       "    </tr>\n",
       "    <tr>\n",
       "      <th>4</th>\n",
       "      <td>47</td>\n",
       "      <td>0</td>\n",
       "      <td>156</td>\n",
       "      <td>56.0</td>\n",
       "      <td>100</td>\n",
       "      <td>60</td>\n",
       "      <td>1</td>\n",
       "      <td>1</td>\n",
       "      <td>0</td>\n",
       "      <td>0</td>\n",
       "      <td>0</td>\n",
       "      <td>0</td>\n",
       "      <td>23.011177</td>\n",
       "    </tr>\n",
       "    <tr>\n",
       "      <th>...</th>\n",
       "      <td>...</td>\n",
       "      <td>...</td>\n",
       "      <td>...</td>\n",
       "      <td>...</td>\n",
       "      <td>...</td>\n",
       "      <td>...</td>\n",
       "      <td>...</td>\n",
       "      <td>...</td>\n",
       "      <td>...</td>\n",
       "      <td>...</td>\n",
       "      <td>...</td>\n",
       "      <td>...</td>\n",
       "      <td>...</td>\n",
       "    </tr>\n",
       "    <tr>\n",
       "      <th>69993</th>\n",
       "      <td>53</td>\n",
       "      <td>0</td>\n",
       "      <td>172</td>\n",
       "      <td>70.0</td>\n",
       "      <td>130</td>\n",
       "      <td>90</td>\n",
       "      <td>1</td>\n",
       "      <td>1</td>\n",
       "      <td>0</td>\n",
       "      <td>0</td>\n",
       "      <td>1</td>\n",
       "      <td>1</td>\n",
       "      <td>23.661439</td>\n",
       "    </tr>\n",
       "    <tr>\n",
       "      <th>69994</th>\n",
       "      <td>57</td>\n",
       "      <td>0</td>\n",
       "      <td>165</td>\n",
       "      <td>80.0</td>\n",
       "      <td>150</td>\n",
       "      <td>80</td>\n",
       "      <td>1</td>\n",
       "      <td>1</td>\n",
       "      <td>0</td>\n",
       "      <td>0</td>\n",
       "      <td>1</td>\n",
       "      <td>1</td>\n",
       "      <td>29.384757</td>\n",
       "    </tr>\n",
       "    <tr>\n",
       "      <th>69995</th>\n",
       "      <td>52</td>\n",
       "      <td>1</td>\n",
       "      <td>168</td>\n",
       "      <td>76.0</td>\n",
       "      <td>120</td>\n",
       "      <td>80</td>\n",
       "      <td>1</td>\n",
       "      <td>1</td>\n",
       "      <td>1</td>\n",
       "      <td>0</td>\n",
       "      <td>1</td>\n",
       "      <td>0</td>\n",
       "      <td>26.927438</td>\n",
       "    </tr>\n",
       "    <tr>\n",
       "      <th>69998</th>\n",
       "      <td>61</td>\n",
       "      <td>0</td>\n",
       "      <td>163</td>\n",
       "      <td>72.0</td>\n",
       "      <td>135</td>\n",
       "      <td>80</td>\n",
       "      <td>1</td>\n",
       "      <td>2</td>\n",
       "      <td>0</td>\n",
       "      <td>0</td>\n",
       "      <td>0</td>\n",
       "      <td>1</td>\n",
       "      <td>27.099251</td>\n",
       "    </tr>\n",
       "    <tr>\n",
       "      <th>69999</th>\n",
       "      <td>56</td>\n",
       "      <td>0</td>\n",
       "      <td>170</td>\n",
       "      <td>72.0</td>\n",
       "      <td>120</td>\n",
       "      <td>80</td>\n",
       "      <td>2</td>\n",
       "      <td>1</td>\n",
       "      <td>0</td>\n",
       "      <td>0</td>\n",
       "      <td>1</td>\n",
       "      <td>0</td>\n",
       "      <td>24.913495</td>\n",
       "    </tr>\n",
       "  </tbody>\n",
       "</table>\n",
       "<p>62498 rows × 13 columns</p>\n",
       "</div>"
      ],
      "text/plain": [
       "       age  gender  height  weight  ap_hi  ap_lo  cholesterol  gluc  smoke  \\\n",
       "0       50       1     168    62.0    110     80            1     1      0   \n",
       "1       55       0     156    85.0    140     90            3     1      0   \n",
       "2       51       0     165    64.0    130     70            3     1      0   \n",
       "3       48       1     169    82.0    150    100            1     1      0   \n",
       "4       47       0     156    56.0    100     60            1     1      0   \n",
       "...    ...     ...     ...     ...    ...    ...          ...   ...    ...   \n",
       "69993   53       0     172    70.0    130     90            1     1      0   \n",
       "69994   57       0     165    80.0    150     80            1     1      0   \n",
       "69995   52       1     168    76.0    120     80            1     1      1   \n",
       "69998   61       0     163    72.0    135     80            1     2      0   \n",
       "69999   56       0     170    72.0    120     80            2     1      0   \n",
       "\n",
       "       alco  active  cardio        BMI  \n",
       "0         0       1       0  21.967120  \n",
       "1         0       1       1  34.927679  \n",
       "2         0       0       1  23.507805  \n",
       "3         0       1       1  28.710479  \n",
       "4         0       0       0  23.011177  \n",
       "...     ...     ...     ...        ...  \n",
       "69993     0       1       1  23.661439  \n",
       "69994     0       1       1  29.384757  \n",
       "69995     0       1       0  26.927438  \n",
       "69998     0       0       1  27.099251  \n",
       "69999     0       1       0  24.913495  \n",
       "\n",
       "[62498 rows x 13 columns]"
      ]
     },
     "execution_count": 41,
     "metadata": {},
     "output_type": "execute_result"
    }
   ],
   "source": [
    "df_test"
   ]
  },
  {
   "cell_type": "code",
   "execution_count": 42,
   "id": "030313c2",
   "metadata": {},
   "outputs": [],
   "source": [
    "input_columns = [\"age\", \"ap_hi\", \"cholesterol\"]\n",
    "output_columns = [\"cardio\"]\n",
    "\n",
    "X, y = df_test[input_columns], df_test[output_columns]"
   ]
  },
  {
   "cell_type": "markdown",
   "id": "748e8fc0",
   "metadata": {},
   "source": [
    "<p style=\"margin-left: 4px; font-family: Arial;\">Данные для обучения:</p>"
   ]
  },
  {
   "cell_type": "code",
   "execution_count": 43,
   "id": "9178a384",
   "metadata": {
    "scrolled": true
   },
   "outputs": [
    {
     "data": {
      "text/html": [
       "<div>\n",
       "<style scoped>\n",
       "    .dataframe tbody tr th:only-of-type {\n",
       "        vertical-align: middle;\n",
       "    }\n",
       "\n",
       "    .dataframe tbody tr th {\n",
       "        vertical-align: top;\n",
       "    }\n",
       "\n",
       "    .dataframe thead th {\n",
       "        text-align: right;\n",
       "    }\n",
       "</style>\n",
       "<table border=\"1\" class=\"dataframe\">\n",
       "  <thead>\n",
       "    <tr style=\"text-align: right;\">\n",
       "      <th></th>\n",
       "      <th>age</th>\n",
       "      <th>ap_hi</th>\n",
       "      <th>cholesterol</th>\n",
       "    </tr>\n",
       "  </thead>\n",
       "  <tbody>\n",
       "    <tr>\n",
       "      <th>0</th>\n",
       "      <td>50</td>\n",
       "      <td>110</td>\n",
       "      <td>1</td>\n",
       "    </tr>\n",
       "    <tr>\n",
       "      <th>1</th>\n",
       "      <td>55</td>\n",
       "      <td>140</td>\n",
       "      <td>3</td>\n",
       "    </tr>\n",
       "    <tr>\n",
       "      <th>2</th>\n",
       "      <td>51</td>\n",
       "      <td>130</td>\n",
       "      <td>3</td>\n",
       "    </tr>\n",
       "    <tr>\n",
       "      <th>3</th>\n",
       "      <td>48</td>\n",
       "      <td>150</td>\n",
       "      <td>1</td>\n",
       "    </tr>\n",
       "    <tr>\n",
       "      <th>4</th>\n",
       "      <td>47</td>\n",
       "      <td>100</td>\n",
       "      <td>1</td>\n",
       "    </tr>\n",
       "    <tr>\n",
       "      <th>...</th>\n",
       "      <td>...</td>\n",
       "      <td>...</td>\n",
       "      <td>...</td>\n",
       "    </tr>\n",
       "    <tr>\n",
       "      <th>69993</th>\n",
       "      <td>53</td>\n",
       "      <td>130</td>\n",
       "      <td>1</td>\n",
       "    </tr>\n",
       "    <tr>\n",
       "      <th>69994</th>\n",
       "      <td>57</td>\n",
       "      <td>150</td>\n",
       "      <td>1</td>\n",
       "    </tr>\n",
       "    <tr>\n",
       "      <th>69995</th>\n",
       "      <td>52</td>\n",
       "      <td>120</td>\n",
       "      <td>1</td>\n",
       "    </tr>\n",
       "    <tr>\n",
       "      <th>69998</th>\n",
       "      <td>61</td>\n",
       "      <td>135</td>\n",
       "      <td>1</td>\n",
       "    </tr>\n",
       "    <tr>\n",
       "      <th>69999</th>\n",
       "      <td>56</td>\n",
       "      <td>120</td>\n",
       "      <td>2</td>\n",
       "    </tr>\n",
       "  </tbody>\n",
       "</table>\n",
       "<p>62498 rows × 3 columns</p>\n",
       "</div>"
      ],
      "text/plain": [
       "       age  ap_hi  cholesterol\n",
       "0       50    110            1\n",
       "1       55    140            3\n",
       "2       51    130            3\n",
       "3       48    150            1\n",
       "4       47    100            1\n",
       "...    ...    ...          ...\n",
       "69993   53    130            1\n",
       "69994   57    150            1\n",
       "69995   52    120            1\n",
       "69998   61    135            1\n",
       "69999   56    120            2\n",
       "\n",
       "[62498 rows x 3 columns]"
      ]
     },
     "execution_count": 43,
     "metadata": {},
     "output_type": "execute_result"
    }
   ],
   "source": [
    "X"
   ]
  },
  {
   "cell_type": "markdown",
   "id": "e168ec15",
   "metadata": {},
   "source": [
    "<p style=\"margin-left: 4px; font-family: Arial;\">Разделяем данные:</p>"
   ]
  },
  {
   "cell_type": "code",
   "execution_count": 44,
   "id": "6bb5e88e",
   "metadata": {},
   "outputs": [],
   "source": [
    "X_test, X_train, y_test, y_train = train_test_split(X, y, train_size=0.2, random_state=42)"
   ]
  },
  {
   "cell_type": "code",
   "execution_count": 45,
   "id": "f46191d4",
   "metadata": {
    "scrolled": false
   },
   "outputs": [
    {
     "data": {
      "text/html": [
       "<div>\n",
       "<style scoped>\n",
       "    .dataframe tbody tr th:only-of-type {\n",
       "        vertical-align: middle;\n",
       "    }\n",
       "\n",
       "    .dataframe tbody tr th {\n",
       "        vertical-align: top;\n",
       "    }\n",
       "\n",
       "    .dataframe thead th {\n",
       "        text-align: right;\n",
       "    }\n",
       "</style>\n",
       "<table border=\"1\" class=\"dataframe\">\n",
       "  <thead>\n",
       "    <tr style=\"text-align: right;\">\n",
       "      <th></th>\n",
       "      <th>age</th>\n",
       "      <th>ap_hi</th>\n",
       "      <th>cholesterol</th>\n",
       "    </tr>\n",
       "  </thead>\n",
       "  <tbody>\n",
       "    <tr>\n",
       "      <th>67076</th>\n",
       "      <td>56</td>\n",
       "      <td>110</td>\n",
       "      <td>1</td>\n",
       "    </tr>\n",
       "    <tr>\n",
       "      <th>60322</th>\n",
       "      <td>41</td>\n",
       "      <td>110</td>\n",
       "      <td>1</td>\n",
       "    </tr>\n",
       "    <tr>\n",
       "      <th>64147</th>\n",
       "      <td>40</td>\n",
       "      <td>120</td>\n",
       "      <td>1</td>\n",
       "    </tr>\n",
       "    <tr>\n",
       "      <th>41425</th>\n",
       "      <td>47</td>\n",
       "      <td>120</td>\n",
       "      <td>1</td>\n",
       "    </tr>\n",
       "    <tr>\n",
       "      <th>38385</th>\n",
       "      <td>57</td>\n",
       "      <td>130</td>\n",
       "      <td>1</td>\n",
       "    </tr>\n",
       "    <tr>\n",
       "      <th>...</th>\n",
       "      <td>...</td>\n",
       "      <td>...</td>\n",
       "      <td>...</td>\n",
       "    </tr>\n",
       "    <tr>\n",
       "      <th>34334</th>\n",
       "      <td>58</td>\n",
       "      <td>120</td>\n",
       "      <td>2</td>\n",
       "    </tr>\n",
       "    <tr>\n",
       "      <th>48002</th>\n",
       "      <td>54</td>\n",
       "      <td>120</td>\n",
       "      <td>1</td>\n",
       "    </tr>\n",
       "    <tr>\n",
       "      <th>53087</th>\n",
       "      <td>58</td>\n",
       "      <td>130</td>\n",
       "      <td>1</td>\n",
       "    </tr>\n",
       "    <tr>\n",
       "      <th>56179</th>\n",
       "      <td>46</td>\n",
       "      <td>120</td>\n",
       "      <td>1</td>\n",
       "    </tr>\n",
       "    <tr>\n",
       "      <th>15691</th>\n",
       "      <td>50</td>\n",
       "      <td>120</td>\n",
       "      <td>1</td>\n",
       "    </tr>\n",
       "  </tbody>\n",
       "</table>\n",
       "<p>49999 rows × 3 columns</p>\n",
       "</div>"
      ],
      "text/plain": [
       "       age  ap_hi  cholesterol\n",
       "67076   56    110            1\n",
       "60322   41    110            1\n",
       "64147   40    120            1\n",
       "41425   47    120            1\n",
       "38385   57    130            1\n",
       "...    ...    ...          ...\n",
       "34334   58    120            2\n",
       "48002   54    120            1\n",
       "53087   58    130            1\n",
       "56179   46    120            1\n",
       "15691   50    120            1\n",
       "\n",
       "[49999 rows x 3 columns]"
      ]
     },
     "execution_count": 45,
     "metadata": {},
     "output_type": "execute_result"
    }
   ],
   "source": [
    "X_train"
   ]
  },
  {
   "cell_type": "code",
   "execution_count": 46,
   "id": "19d81603",
   "metadata": {
    "scrolled": false
   },
   "outputs": [
    {
     "data": {
      "text/html": [
       "<div>\n",
       "<style scoped>\n",
       "    .dataframe tbody tr th:only-of-type {\n",
       "        vertical-align: middle;\n",
       "    }\n",
       "\n",
       "    .dataframe tbody tr th {\n",
       "        vertical-align: top;\n",
       "    }\n",
       "\n",
       "    .dataframe thead th {\n",
       "        text-align: right;\n",
       "    }\n",
       "</style>\n",
       "<table border=\"1\" class=\"dataframe\">\n",
       "  <thead>\n",
       "    <tr style=\"text-align: right;\">\n",
       "      <th></th>\n",
       "      <th>cardio</th>\n",
       "    </tr>\n",
       "  </thead>\n",
       "  <tbody>\n",
       "    <tr>\n",
       "      <th>67076</th>\n",
       "      <td>1</td>\n",
       "    </tr>\n",
       "    <tr>\n",
       "      <th>60322</th>\n",
       "      <td>0</td>\n",
       "    </tr>\n",
       "    <tr>\n",
       "      <th>64147</th>\n",
       "      <td>0</td>\n",
       "    </tr>\n",
       "    <tr>\n",
       "      <th>41425</th>\n",
       "      <td>0</td>\n",
       "    </tr>\n",
       "    <tr>\n",
       "      <th>38385</th>\n",
       "      <td>1</td>\n",
       "    </tr>\n",
       "    <tr>\n",
       "      <th>...</th>\n",
       "      <td>...</td>\n",
       "    </tr>\n",
       "    <tr>\n",
       "      <th>34334</th>\n",
       "      <td>0</td>\n",
       "    </tr>\n",
       "    <tr>\n",
       "      <th>48002</th>\n",
       "      <td>0</td>\n",
       "    </tr>\n",
       "    <tr>\n",
       "      <th>53087</th>\n",
       "      <td>0</td>\n",
       "    </tr>\n",
       "    <tr>\n",
       "      <th>56179</th>\n",
       "      <td>0</td>\n",
       "    </tr>\n",
       "    <tr>\n",
       "      <th>15691</th>\n",
       "      <td>0</td>\n",
       "    </tr>\n",
       "  </tbody>\n",
       "</table>\n",
       "<p>49999 rows × 1 columns</p>\n",
       "</div>"
      ],
      "text/plain": [
       "       cardio\n",
       "67076       1\n",
       "60322       0\n",
       "64147       0\n",
       "41425       0\n",
       "38385       1\n",
       "...       ...\n",
       "34334       0\n",
       "48002       0\n",
       "53087       0\n",
       "56179       0\n",
       "15691       0\n",
       "\n",
       "[49999 rows x 1 columns]"
      ]
     },
     "execution_count": 46,
     "metadata": {},
     "output_type": "execute_result"
    }
   ],
   "source": [
    "y_train"
   ]
  },
  {
   "cell_type": "markdown",
   "id": "e7881985",
   "metadata": {},
   "source": [
    "<p style=\"margin-left: 4px; font-family: Arial;\">Создаём и обучаем модель:</p>"
   ]
  },
  {
   "cell_type": "code",
   "execution_count": 47,
   "id": "fe5dfea5",
   "metadata": {
    "scrolled": true
   },
   "outputs": [
    {
     "data": {
      "text/plain": [
       "LogisticRegression(random_state=42)"
      ]
     },
     "execution_count": 47,
     "metadata": {},
     "output_type": "execute_result"
    }
   ],
   "source": [
    "model = LogisticRegression(random_state=42)\n",
    "model.fit(X_train, y_train)"
   ]
  },
  {
   "cell_type": "markdown",
   "id": "8f458967",
   "metadata": {},
   "source": [
    "<p style=\"margin-left: 4px; font-family: Arial;\">Точность модели:</p>"
   ]
  },
  {
   "cell_type": "code",
   "execution_count": 48,
   "id": "82ce1b83",
   "metadata": {
    "scrolled": false
   },
   "outputs": [
    {
     "data": {
      "text/plain": [
       "0.7192575406032483"
      ]
     },
     "execution_count": 48,
     "metadata": {},
     "output_type": "execute_result"
    }
   ],
   "source": [
    "model.score(X_test, y_test)"
   ]
  },
  {
   "cell_type": "markdown",
   "id": "f2b36b52",
   "metadata": {},
   "source": [
    "<h4 style=\"font-family: Arial;\">Результат: </h4>\n",
    "<hr>\n",
    "<p style=\"margin-left: 4px; font-family: Arial;\">Конечно, точность модели составляешь лишь 72 %, что явлется довольно небольшим показателем, однако даже при такой точности наша модель уже более-менее адекватно предсказывать наличие у пациентов каких-либо сердечно-сосудистых заболеваний, что может помочь врачу поставить окончательный диагноз</p>"
   ]
  },
  {
   "cell_type": "markdown",
   "id": "66bb9e77",
   "metadata": {},
   "source": [
    "<h4 style=\"font-family: Arial;\">Проверка модели: </h4>\n",
    "<p style=\"margin-left: 4px; font-family: Arial;\">Теперь проверим то, как работает обученная нами модель на случайных данных из тестовой выборки, т.е оценим её качество не на показателях, а, как говорится, на деле</p>"
   ]
  },
  {
   "cell_type": "code",
   "execution_count": 49,
   "id": "db713db6",
   "metadata": {},
   "outputs": [],
   "source": [
    "import random as rand\n",
    "\n",
    "def get_random_predictions(X, y, n_samples=10):\n",
    "    # Добавляем y в X, поскольку при train_test_split и рандомной выборке входные данные не будут соответсвовать выходным\n",
    "    X[output_columns] = y\n",
    "    \n",
    "    samples = X.sample(n=n_samples)\n",
    "    input_, output = samples[input_columns], samples[output_columns]\n",
    "    \n",
    "    # Создаём таблицу с предсказанной вероятностью наличия болезни и правильным ответом\n",
    "    return pd.DataFrame(data={\"Вероятность наличия\": np.round_(model.predict_proba(input_)[:, 1] * 100, 2), \n",
    "                                          \"Наличие\": np.squeeze(output.values)})"
   ]
  },
  {
   "cell_type": "code",
   "execution_count": 50,
   "id": "66b702b0",
   "metadata": {
    "scrolled": false
   },
   "outputs": [
    {
     "data": {
      "text/html": [
       "<div>\n",
       "<style scoped>\n",
       "    .dataframe tbody tr th:only-of-type {\n",
       "        vertical-align: middle;\n",
       "    }\n",
       "\n",
       "    .dataframe tbody tr th {\n",
       "        vertical-align: top;\n",
       "    }\n",
       "\n",
       "    .dataframe thead th {\n",
       "        text-align: right;\n",
       "    }\n",
       "</style>\n",
       "<table border=\"1\" class=\"dataframe\">\n",
       "  <thead>\n",
       "    <tr style=\"text-align: right;\">\n",
       "      <th></th>\n",
       "      <th>Вероятность наличия</th>\n",
       "      <th>Наличие</th>\n",
       "    </tr>\n",
       "  </thead>\n",
       "  <tbody>\n",
       "    <tr>\n",
       "      <th>0</th>\n",
       "      <td>40.35</td>\n",
       "      <td>Нет</td>\n",
       "    </tr>\n",
       "    <tr>\n",
       "      <th>1</th>\n",
       "      <td>79.47</td>\n",
       "      <td>Есть</td>\n",
       "    </tr>\n",
       "    <tr>\n",
       "      <th>2</th>\n",
       "      <td>36.20</td>\n",
       "      <td>Нет</td>\n",
       "    </tr>\n",
       "    <tr>\n",
       "      <th>3</th>\n",
       "      <td>59.17</td>\n",
       "      <td>Нет</td>\n",
       "    </tr>\n",
       "    <tr>\n",
       "      <th>4</th>\n",
       "      <td>38.65</td>\n",
       "      <td>Нет</td>\n",
       "    </tr>\n",
       "    <tr>\n",
       "      <th>5</th>\n",
       "      <td>31.11</td>\n",
       "      <td>Нет</td>\n",
       "    </tr>\n",
       "    <tr>\n",
       "      <th>6</th>\n",
       "      <td>45.00</td>\n",
       "      <td>Есть</td>\n",
       "    </tr>\n",
       "    <tr>\n",
       "      <th>7</th>\n",
       "      <td>33.82</td>\n",
       "      <td>Есть</td>\n",
       "    </tr>\n",
       "    <tr>\n",
       "      <th>8</th>\n",
       "      <td>21.44</td>\n",
       "      <td>Нет</td>\n",
       "    </tr>\n",
       "    <tr>\n",
       "      <th>9</th>\n",
       "      <td>47.60</td>\n",
       "      <td>Есть</td>\n",
       "    </tr>\n",
       "  </tbody>\n",
       "</table>\n",
       "</div>"
      ],
      "text/plain": [
       "   Вероятность наличия Наличие\n",
       "0                40.35     Нет\n",
       "1                79.47    Есть\n",
       "2                36.20     Нет\n",
       "3                59.17     Нет\n",
       "4                38.65     Нет\n",
       "5                31.11     Нет\n",
       "6                45.00    Есть\n",
       "7                33.82    Есть\n",
       "8                21.44     Нет\n",
       "9                47.60    Есть"
      ]
     },
     "execution_count": 50,
     "metadata": {},
     "output_type": "execute_result"
    }
   ],
   "source": [
    "a = get_random_predictions(X_test, y_test, 10)\n",
    "# Меняем имена для наглядности\n",
    "a[\"Наличие\"] = a[\"Наличие\"].apply(lambda x: \"Есть\" if x else \"Нет\")\n",
    "\n",
    "a"
   ]
  },
  {
   "cell_type": "markdown",
   "id": "8b9b7df8",
   "metadata": {},
   "source": [
    "<h4 style=\"font-family: Arial;\">Результат: </h4>\n",
    "<hr>\n",
    "<p style=\"margin-left: 4px; font-family: Arial;\">Как видно таблице, обученная модель довольно неплохо работает, поскольку в большинстве случаев подсчитанная моделью вероятность совпадает с правильным ответом. Конечно, есть и направильные ответы, но, как уже описывалось ранее, модель не идеальна и можеть служить лишь дополнительным, но не основным инструментом врача.</p>"
   ]
  },
  {
   "cell_type": "markdown",
   "id": "91d9d72f",
   "metadata": {},
   "source": [
    "# Итоги исследования\n",
    "<hr>\n",
    "<p style=\"margin-left: 4px; font-family: Arial;\">Пришло время делать выводы по проделанной работе.</p>\n",
    "<br>\n",
    "\n",
    "<h4 style=\"font-family: Arial;\"> На данном этапе мы имеем:</h4>\n",
    "    <ul style=\"font-family: Arial;\">\n",
    "    <li>Подробный анализ данных и выведенные из него правила профилактики сердечно-сосудистых заболеваний</li>\n",
    "    <li>Средние представители здоровой и больной групп</li>\n",
    "    <li>Human-readable таблица для понимания величины вероятности наличия сердечно-сосудистых заболеваний</li>\n",
    "    <li>Модель машинного обучения, предсказывающая наличие у человека наличие болезней</li>\n",
    "</ul>\n",
    "<br>\n",
    "<h4 style=\"font-family: Arial;\">Из всей работы можно сделать следующие выводы:</h4>\n",
    "<ul style=\"font-family: Arial;\">\n",
    "    <li>Наличие сердечно-сосудистых заболеваний - логичное следствие из образа жизни человека</li>\n",
    "    <li>Причинами возникновения проблем с данной системой может быть множество факторов: от систолического давления до уровня глюкозы в крови</li>\n",
    "    <li>Модели машинного обучения могут быть лишь инструментом врача, а не его заменой, поскольку не обладают достаточной точностью (по крайней мере, в данном случае)</li>\n",
    "    <li>Придерживаясь простых советов, можно в несколько раз снизить вероятность возникновения сердечно-сосудистых заболеваний</li>\n",
    "    <li>Для создания более точных моделей необходимо либо использовать более совершенные алгоритмы, либо бóльшую выборку.</li>\n",
    "    <li>Так же бóльшую выборку стоит использовать и для создания более точных human-readable таблиц для определения вероятности наличия болезней</li>\n",
    "</ul>\n",
    "<br>\n",
    "<p style=\"margin-left: 4px; font-family: Arial;\">Все поставленные задачи выполнены, проект выполнен.</p>"
   ]
  },
  {
   "cell_type": "markdown",
   "id": "d9defb1f",
   "metadata": {},
   "source": [
    "<em style=\"margin-left: 4px; font-family: Arial;\">Авторский комментарий: это мой первый проект в сфере Data Science, из-за чего я мог допустить большое кол-во разного рода ошибок, а также совершить множество глупостей. На момент работы над этим проектом я активно занимаюсь в этой сфере всего-лишь где-то две-три недели, из-за чего качество моей работы может быть довольно низким. Стоит имет это в виду</em>"
   ]
  }
 ],
 "metadata": {
  "kernelspec": {
   "display_name": "Python 3",
   "language": "python",
   "name": "python3"
  },
  "language_info": {
   "codemirror_mode": {
    "name": "ipython",
    "version": 3
   },
   "file_extension": ".py",
   "mimetype": "text/x-python",
   "name": "python",
   "nbconvert_exporter": "python",
   "pygments_lexer": "ipython3",
   "version": "3.8.8"
  }
 },
 "nbformat": 4,
 "nbformat_minor": 5
}
